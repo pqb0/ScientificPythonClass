{
 "cells": [
  {
   "cell_type": "markdown",
   "id": "e8e61d3c-3508-4228-bad4-ee8c8b8edc65",
   "metadata": {},
   "source": [
    "### Table of Contents\n",
    "1. Advanced DataFrame Manipulation\n",
    "2. Grouping and Aggregating Data\n",
    "3. Merging and Joining DataFrames\n",
    "4. Applying Functions with `apply()`, `map()`, `applymap()`\n",
    "5. Working with Time Series Data\n",
    "6. Pivot Tables and Crosstabulations\n",
    "7. Handling Missing Data\n",
    "8. Performance Optimization in Pandas\n",
    "\n",
    "---\n"
   ]
  },
  {
   "cell_type": "markdown",
   "id": "53cb5e57-99a4-4ae4-9077-e5d662bac02b",
   "metadata": {},
   "source": [
    "### 1. **Advanced DataFrame Manipulation**\n",
    "\n",
    "Pandas provides powerful data manipulation capabilities. You can perform operations on specific columns, slice data, and filter rows based on multiple conditions."
   ]
  },
  {
   "cell_type": "markdown",
   "id": "7711a2cc-30a6-4dca-870c-9fdd19d6aa19",
   "metadata": {},
   "source": [
    "#### Filtering Rows Based on Multiple Conditions"
   ]
  },
  {
   "cell_type": "code",
   "execution_count": 42,
   "id": "3fa82fe3-3d76-44d4-82e2-8b39bc4e4563",
   "metadata": {},
   "outputs": [
    {
     "name": "stdout",
     "output_type": "stream",
     "text": [
      "    Name  Age City  Salary\n",
      "1    Bob   30   SF   80000\n",
      "3  David   29   SF  110000\n"
     ]
    }
   ],
   "source": [
    "import pandas as pd\n",
    "\n",
    "# Sample DataFrame\n",
    "data = {'Name': ['Alice', 'Bob', 'Charlie', 'David', 'Eve', 'Jan', 'Anna'],\n",
    "        'Age': [24, 30, 35, 29, 22, 22, 25],\n",
    "        'City': ['NY', 'SF', 'LA', 'SF', 'LA', 'LA', 'NY'],\n",
    "        'Salary': [70000, 80000, 120000, 110000, 90000, 90098, 200000]}\n",
    "df = pd.DataFrame(data)\n",
    "\n",
    "# Filter based on multiple conditions\n",
    "filtered_df = df[(df['Age'] > 25) & (df['City'] == 'SF')] # note the element-wise and (&), elemnet-wise or (|)\n",
    "print(filtered_df)"
   ]
  },
  {
   "cell_type": "markdown",
   "id": "5c7a4951-41d2-4f9d-bb81-1465150c0fb1",
   "metadata": {},
   "source": [
    "#### Modifying Columns with Conditions\n",
    "\n",
    "You can modify values in a column based on a condition."
   ]
  },
  {
   "cell_type": "code",
   "execution_count": 43,
   "id": "b107890e-3b8d-40ef-af04-e9e15a10914a",
   "metadata": {},
   "outputs": [
    {
     "name": "stdout",
     "output_type": "stream",
     "text": [
      "      Name  Age City  Salary High_Earner\n",
      "0    Alice   24   NY   70000          No\n",
      "1      Bob   30   SF   80000          No\n",
      "2  Charlie   35   LA  120000         Yes\n",
      "3    David   29   SF  110000         Yes\n",
      "4      Eve   22   LA   90000          No\n",
      "5      Jan   22   LA   90098          No\n",
      "6     Anna   25   NY  200000         Yes\n"
     ]
    }
   ],
   "source": [
    "df['High_Earner'] = df['Salary'].apply(lambda x: 'Yes' if x > 100000 else 'No') # note lambda as anonymous function\n",
    "print(df)"
   ]
  },
  {
   "cell_type": "markdown",
   "id": "ee303784-a71e-49db-9012-34c353a4e66e",
   "metadata": {},
   "source": [
    "### 2. **Grouping and Aggregating Data**\n",
    "\n",
    "Grouping data is a common task, especially for summarizing information. You can use `groupby()` for splitting the data into groups and applying aggregate functions.\n"
   ]
  },
  {
   "cell_type": "code",
   "execution_count": 25,
   "id": "09f35afe-4248-4e97-acbc-1171204e2bcd",
   "metadata": {},
   "outputs": [
    {
     "name": "stdout",
     "output_type": "stream",
     "text": [
      "        Salary  Age\n",
      "City               \n",
      "LA    105000.0   35\n",
      "NY     70000.0   24\n",
      "SF     95000.0   30\n"
     ]
    }
   ],
   "source": [
    "# Group by 'City' and aggregate the average salary and average age\n",
    "grouped = df.groupby('City').agg({'Salary': 'mean', 'Age': 'max'})\n",
    "print(grouped)"
   ]
  },
  {
   "cell_type": "markdown",
   "id": "3b288893-db2e-47fb-9d9f-a52966a2375b",
   "metadata": {},
   "source": [
    "#### Custom Aggregations with `apply()`"
   ]
  },
  {
   "cell_type": "code",
   "execution_count": 5,
   "id": "674bf181-81fd-483c-818f-2135c0e59e1d",
   "metadata": {},
   "outputs": [
    {
     "name": "stdout",
     "output_type": "stream",
     "text": [
      "      Salary\n",
      "City        \n",
      "LA     30000\n",
      "NY         0\n",
      "SF     30000\n"
     ]
    }
   ],
   "source": [
    "def salary_range(series):\n",
    "    return series.max() - series.min()\n",
    "\n",
    "grouped_custom = df.groupby('City').agg({'Salary': salary_range})\n",
    "print(grouped_custom)"
   ]
  },
  {
   "cell_type": "markdown",
   "id": "2df1f5a6-9bd5-48e5-808f-2bbc130b974a",
   "metadata": {},
   "source": [
    "### 3. **Merging and Joining DataFrames**\n",
    "\n",
    "You can merge or join multiple DataFrames based on keys (like SQL joins). Pandas provides `merge()`, `join()`, and `concat()` to handle these operations.\n",
    "\n",
    "#### Example of `merge()`"
   ]
  },
  {
   "cell_type": "code",
   "execution_count": 27,
   "id": "d6e0af3d-434a-4401-823c-12ae13319ed8",
   "metadata": {},
   "outputs": [
    {
     "name": "stdout",
     "output_type": "stream",
     "text": [
      "      Name  Age  Salary\n",
      "0    Alice   24   70000\n",
      "1      Bob   30   80000\n",
      "2  Charlie   35  120000\n"
     ]
    }
   ],
   "source": [
    "# Two DataFrames\n",
    "df1 = pd.DataFrame({'Name': ['Alice', 'Bob', 'Charlie'],\n",
    "                    'Age': [24, 30, 35]})\n",
    "\n",
    "df2 = pd.DataFrame({'Name': ['Alice', 'Bob', 'Charlie', 'David'],\n",
    "                    'Salary': [70000, 80000, 120000, 100000]})\n",
    "\n",
    "# Inner join on 'Name'\n",
    "merged_df = pd.merge(df1, df2, on='Name', how='inner') # combines rows from two tables (or DataFrames) based on a matching condition (intersection)\n",
    "#merged_df = pd.merge(df1, df2, on='Name', how='outer') # combines rows from two tables (or DataFrames) (union)\n",
    "\n",
    "print(merged_df)"
   ]
  },
  {
   "cell_type": "markdown",
   "id": "44de80a5-4c06-4358-b119-f7a6b14ac0f6",
   "metadata": {},
   "source": [
    "#### Example of `concat()`"
   ]
  },
  {
   "cell_type": "code",
   "execution_count": 7,
   "id": "e6f5beb9-7464-4874-8c53-91900493aaab",
   "metadata": {},
   "outputs": [
    {
     "name": "stdout",
     "output_type": "stream",
     "text": [
      "      Name   Age    Salary\n",
      "0    Alice  24.0       NaN\n",
      "1      Bob  30.0       NaN\n",
      "2  Charlie  35.0       NaN\n",
      "3    Alice   NaN   70000.0\n",
      "4      Bob   NaN   80000.0\n",
      "5  Charlie   NaN  120000.0\n",
      "6    David   NaN  100000.0\n"
     ]
    }
   ],
   "source": [
    "# Concatenating vertically\n",
    "df_concat = pd.concat([df1, df2], axis=0, ignore_index=True)\n",
    "print(df_concat)"
   ]
  },
  {
   "cell_type": "markdown",
   "id": "6ef1e7ad-1cba-4a28-a742-83064489305d",
   "metadata": {},
   "source": [
    "### 4. **Applying Functions with `apply()`, `map()`, and `applymap()`**\n",
    "\n",
    "- `apply()` is used to apply a function to each column or row.\n",
    "- `map()` is used for element-wise transformations on a Series.\n",
    "- `applymap()` is used for element-wise transformations on a DataFrame.\n",
    "\n",
    "#### `apply()`\n"
   ]
  },
  {
   "cell_type": "code",
   "execution_count": 8,
   "id": "468c9665-c1c6-4aa7-af4d-3116d3c92fff",
   "metadata": {},
   "outputs": [
    {
     "name": "stdout",
     "output_type": "stream",
     "text": [
      "      Name  Age City  Salary High_Earner  Age_Squared\n",
      "0    Alice   24   NY   70000          No          576\n",
      "1      Bob   30   SF   80000          No          900\n",
      "2  Charlie   35   LA  120000         Yes         1225\n",
      "3    David   29   SF  110000         Yes          841\n",
      "4      Eve   22   LA   90000          No          484\n"
     ]
    }
   ],
   "source": [
    "# Apply a function to a column\n",
    "df['Age_Squared'] = df['Age'].apply(lambda x: x ** 2)\n",
    "print(df)"
   ]
  },
  {
   "cell_type": "markdown",
   "id": "21cdd35d-b04a-4e3d-a025-d2c07bb8ce7f",
   "metadata": {},
   "source": [
    "#### `map()`\n"
   ]
  },
  {
   "cell_type": "code",
   "execution_count": 9,
   "id": "d92ed279-bfda-4f77-9a7c-f931375fdbb5",
   "metadata": {},
   "outputs": [
    {
     "name": "stdout",
     "output_type": "stream",
     "text": [
      "      Name  Age City  Salary High_Earner  Age_Squared  City_Code\n",
      "0    Alice   24   NY   70000          No          576          1\n",
      "1      Bob   30   SF   80000          No          900          2\n",
      "2  Charlie   35   LA  120000         Yes         1225          3\n",
      "3    David   29   SF  110000         Yes          841          2\n",
      "4      Eve   22   LA   90000          No          484          3\n"
     ]
    }
   ],
   "source": [
    "# Map values in a Series\n",
    "df['City_Code'] = df['City'].map({'NY': 1, 'SF': 2, 'LA': 3})\n",
    "print(df)"
   ]
  },
  {
   "cell_type": "markdown",
   "id": "6d44521a-b888-4de2-90d9-153abaeb3284",
   "metadata": {},
   "source": [
    "#### `applymap()`\n"
   ]
  },
  {
   "cell_type": "code",
   "execution_count": 29,
   "id": "a9719ee3-e78e-4584-add2-5f8b1c9e4a33",
   "metadata": {},
   "outputs": [
    {
     "name": "stderr",
     "output_type": "stream",
     "text": [
      "C:\\Users\\syousaf\\AppData\\Local\\Temp\\ipykernel_27780\\780257583.py:2: FutureWarning: DataFrame.applymap has been deprecated. Use DataFrame.map instead.\n",
      "  df[['Age', 'Salary']].applymap(lambda x: x / 1000)\n"
     ]
    },
    {
     "data": {
      "text/html": [
       "<div>\n",
       "<style scoped>\n",
       "    .dataframe tbody tr th:only-of-type {\n",
       "        vertical-align: middle;\n",
       "    }\n",
       "\n",
       "    .dataframe tbody tr th {\n",
       "        vertical-align: top;\n",
       "    }\n",
       "\n",
       "    .dataframe thead th {\n",
       "        text-align: right;\n",
       "    }\n",
       "</style>\n",
       "<table border=\"1\" class=\"dataframe\">\n",
       "  <thead>\n",
       "    <tr style=\"text-align: right;\">\n",
       "      <th></th>\n",
       "      <th>Age</th>\n",
       "      <th>Salary</th>\n",
       "    </tr>\n",
       "  </thead>\n",
       "  <tbody>\n",
       "    <tr>\n",
       "      <th>0</th>\n",
       "      <td>0.024</td>\n",
       "      <td>70.0</td>\n",
       "    </tr>\n",
       "    <tr>\n",
       "      <th>1</th>\n",
       "      <td>0.030</td>\n",
       "      <td>80.0</td>\n",
       "    </tr>\n",
       "    <tr>\n",
       "      <th>2</th>\n",
       "      <td>0.035</td>\n",
       "      <td>120.0</td>\n",
       "    </tr>\n",
       "    <tr>\n",
       "      <th>3</th>\n",
       "      <td>0.029</td>\n",
       "      <td>110.0</td>\n",
       "    </tr>\n",
       "    <tr>\n",
       "      <th>4</th>\n",
       "      <td>0.022</td>\n",
       "      <td>90.0</td>\n",
       "    </tr>\n",
       "  </tbody>\n",
       "</table>\n",
       "</div>"
      ],
      "text/plain": [
       "     Age  Salary\n",
       "0  0.024    70.0\n",
       "1  0.030    80.0\n",
       "2  0.035   120.0\n",
       "3  0.029   110.0\n",
       "4  0.022    90.0"
      ]
     },
     "execution_count": 29,
     "metadata": {},
     "output_type": "execute_result"
    }
   ],
   "source": [
    "# Apply element-wise function on entire DataFrame\n",
    "df[['Age', 'Salary']].applymap(lambda x: x / 1000)\n",
    "\n",
    "df[['Age', 'Salary']].map(lambda x: x / 1000)"
   ]
  },
  {
   "cell_type": "markdown",
   "id": "d21667e3-0a4f-4815-86a0-a55bac8d3cff",
   "metadata": {},
   "source": [
    "### 5. **Working with Time Series Data**\n",
    "\n",
    "Pandas has excellent support for time series data. Let’s cover some of the basic operations with dates."
   ]
  },
  {
   "cell_type": "code",
   "execution_count": 46,
   "id": "47cf583d-5c20-41dd-a66f-b9aca3b28aee",
   "metadata": {},
   "outputs": [
    {
     "name": "stdout",
     "output_type": "stream",
     "text": [
      "            Sales\n",
      "2024-01-01    250\n",
      "2024-01-02    280\n",
      "2024-01-03    300\n",
      "2024-01-04    200\n",
      "2024-01-05    230\n",
      "2024-01-06    270\n"
     ]
    }
   ],
   "source": [
    "# Creating a DateTime index\n",
    "dates = pd.date_range('20240101', periods=6)\n",
    "df_dates = pd.DataFrame({'Sales': [250, 280, 300, 200, 230, 270]}, index=dates)\n",
    "print(df_dates)"
   ]
  },
  {
   "cell_type": "markdown",
   "id": "cba14b66-f62d-4dc9-ba9d-3b8f962ff108",
   "metadata": {},
   "source": [
    "### 6. **Pivot Tables and Crosstabulations**\n",
    "\n",
    "Pivot tables allow you to summarize data similar to Excel’s pivot tables.\n",
    "\n",
    "#### Creating a Pivot Table\n"
   ]
  },
  {
   "cell_type": "code",
   "execution_count": 44,
   "id": "57936141-f9a1-4c79-b448-77e6d3274590",
   "metadata": {},
   "outputs": [
    {
     "name": "stdout",
     "output_type": "stream",
     "text": [
      "High_Earner       No       Yes\n",
      "City                          \n",
      "LA           90049.0  120000.0\n",
      "NY           70000.0  200000.0\n",
      "SF           80000.0  110000.0\n"
     ]
    }
   ],
   "source": [
    "# Pivot table to see average salary by city and high earner status\n",
    "\n",
    "# values: The column(s) of data you want to aggregate.\n",
    "# index: The column(s) you want to group by (become the rows of the pivot table).\n",
    "# columns: The column(s) to be transformed into new columns in the pivot table.\n",
    "# aggfunc: The aggregation function to be applied, such as sum, mean, count, etc. The default is mean.\n",
    "    \n",
    "pivot_table = df.pivot_table(values='Salary', index='City', columns='High_Earner', aggfunc='mean')\n",
    "print(pivot_table)"
   ]
  },
  {
   "cell_type": "markdown",
   "id": "f1073ae2-cef2-49dd-816a-77330dd0fdcb",
   "metadata": {},
   "source": [
    "#### Crosstabulations\n",
    "\n",
    "Crosstab is similar to a pivot table but focuses on counting occurrences.\n"
   ]
  },
  {
   "cell_type": "code",
   "execution_count": 45,
   "id": "1142b971-319d-4363-bffa-7bc010b0ec3b",
   "metadata": {},
   "outputs": [
    {
     "name": "stdout",
     "output_type": "stream",
     "text": [
      "High_Earner  No  Yes\n",
      "City                \n",
      "LA            2    1\n",
      "NY            1    1\n",
      "SF            1    1\n"
     ]
    }
   ],
   "source": [
    "# Crosstabulation of High_Earner by City\n",
    "crosstab = pd.crosstab(df['City'], df['High_Earner'])\n",
    "print(crosstab)"
   ]
  },
  {
   "cell_type": "markdown",
   "id": "2a6baecc-663a-48f9-97ea-68960c5bcb4d",
   "metadata": {},
   "source": [
    "### 7. **Handling Missing Data**\n",
    "\n",
    "Handling missing values effectively is crucial for data analysis.\n",
    "\n",
    "#### Checking for Missing Data"
   ]
  },
  {
   "cell_type": "code",
   "execution_count": 17,
   "id": "582de343-f68c-43f8-8b98-8961889e5f6f",
   "metadata": {},
   "outputs": [
    {
     "name": "stdout",
     "output_type": "stream",
     "text": [
      "    Name    Age   City  Salary  High_Earner  Age_Squared  City_Code\n",
      "0  False  False  False   False        False        False      False\n",
      "1  False  False  False   False        False        False      False\n",
      "2  False  False  False   False        False        False      False\n",
      "3  False  False  False   False        False        False      False\n",
      "4  False  False  False   False        False        False      False\n"
     ]
    }
   ],
   "source": [
    "# Check for missing data\n",
    "print(df.isnull())"
   ]
  },
  {
   "cell_type": "markdown",
   "id": "e9381946-2b27-46f9-839e-571664e5a370",
   "metadata": {},
   "source": [
    "#### Filling Missing Values\n"
   ]
  },
  {
   "cell_type": "code",
   "execution_count": 18,
   "id": "c6f22451-10ce-49ea-9ef1-ee4848821f05",
   "metadata": {},
   "outputs": [],
   "source": [
    "# Fill missing data with a default value\n",
    "df.fillna(value={'Salary': 0}, inplace=True)"
   ]
  },
  {
   "cell_type": "markdown",
   "id": "2415fb66-9a90-43e7-9a58-3c8639dbb9f5",
   "metadata": {},
   "source": [
    "#### Dropping Missing Data"
   ]
  },
  {
   "cell_type": "code",
   "execution_count": 19,
   "id": "8f28a678-54ae-42fb-afac-dd50e5a1d232",
   "metadata": {},
   "outputs": [],
   "source": [
    "# Drop rows where any data is missing\n",
    "df.dropna(how='any', inplace=True)"
   ]
  },
  {
   "cell_type": "markdown",
   "id": "ea7d1305-3b50-4fb9-b146-97bf86753c90",
   "metadata": {},
   "source": [
    "### 8. **Performance Optimization in Pandas**\n",
    "\n",
    "Understanding how to optimize performance in Pandas is important.\n",
    "\n",
    "#### Vectorization\n",
    "\n",
    "Avoid using loops and try to use vectorized operations where possible. Pandas operations are optimized internally for speed."
   ]
  },
  {
   "cell_type": "code",
   "execution_count": 20,
   "id": "b1b93fb3-02e7-45b7-a631-3a17cf950827",
   "metadata": {},
   "outputs": [],
   "source": [
    "# Slow version with loop\n",
    "df['Salary'] = [x * 2 for x in df['Salary']]\n",
    "\n",
    "# Fast vectorized version\n",
    "df['Salary'] = df['Salary'] * 2"
   ]
  },
  {
   "cell_type": "markdown",
   "id": "fb7ffbca-61a9-44d6-a71e-f2e4cd98e725",
   "metadata": {},
   "source": [
    "#### Using `eval()` and `query()`\n",
    "\n",
    "Pandas’ `eval()` and `query()` can optimize performance when working with large datasets."
   ]
  },
  {
   "cell_type": "code",
   "execution_count": 22,
   "id": "3945a3f5-a5a5-452b-854c-7b4be9df39ff",
   "metadata": {},
   "outputs": [
    {
     "name": "stdout",
     "output_type": "stream",
     "text": [
      "      Name  Age City  Salary High_Earner  Age_Squared  City_Code\n",
      "2  Charlie   35   LA  480000         Yes         1225          3\n"
     ]
    }
   ],
   "source": [
    "# Using query() for filtering\n",
    "filtered_df = df.query('Age > 30 and Salary > 100000')\n",
    "print(filtered_df)"
   ]
  },
  {
   "cell_type": "markdown",
   "id": "0aa132fc-6163-4a96-aaf5-3832ec81d07b",
   "metadata": {},
   "source": [
    "### Conclusion\n",
    "\n",
    "We covered some Pandas techniques that are essential for working with real-world data. Here’s what you learned:\n",
    "- Advanced data manipulation techniques\n",
    "- Grouping and aggregating data\n",
    "- Merging and joining DataFrames\n",
    "- Applying functions with `apply()`, `map()`, and `applymap()`\n",
    "- Working with time series data\n",
    "- Creating pivot tables and cross-tabulations\n",
    "- Handling missing data effectively\n",
    "- Optimizing performance with vectorization and other methods"
   ]
  },
  {
   "cell_type": "code",
   "execution_count": null,
   "id": "0a3435dc-b5f5-4040-8f50-450184c5689b",
   "metadata": {},
   "outputs": [],
   "source": []
  }
 ],
 "metadata": {
  "kernelspec": {
   "display_name": "Python 3 (ipykernel)",
   "language": "python",
   "name": "python3"
  },
  "language_info": {
   "codemirror_mode": {
    "name": "ipython",
    "version": 3
   },
   "file_extension": ".py",
   "mimetype": "text/x-python",
   "name": "python",
   "nbconvert_exporter": "python",
   "pygments_lexer": "ipython3",
   "version": "3.12.4"
  }
 },
 "nbformat": 4,
 "nbformat_minor": 5
}

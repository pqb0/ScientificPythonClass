{
 "cells": [
  {
   "cell_type": "code",
   "execution_count": 2,
   "metadata": {},
   "outputs": [
    {
     "data": {
      "text/plain": [
       "array([[12, 16, 11],\n",
       "       [ 7, 11, 17],\n",
       "       [ 2, 13,  6]])"
      ]
     },
     "execution_count": 2,
     "metadata": {},
     "output_type": "execute_result"
    }
   ],
   "source": [
    "import numpy as np\n",
    "a = np.random.randint(1, 21, [3, 3])\n",
    "a"
   ]
  },
  {
   "cell_type": "code",
   "execution_count": 19,
   "metadata": {},
   "outputs": [
    {
     "data": {
      "text/plain": [
       "(array([[61, 74],\n",
       "        [94, 33]]),\n",
       " array([[74, 61],\n",
       "        [33, 94]]))"
      ]
     },
     "execution_count": 19,
     "metadata": {},
     "output_type": "execute_result"
    }
   ],
   "source": [
    "a = np.random.randint(10, 101, [2, 2])\n",
    "sum_of_diagonal = sum(np.diag(a))\n",
    "\n",
    "InvertedA = np.fliplr(a)\n",
    "sum_of_antidiagonal = sum(np.diag(InvertedA))\n",
    "\n",
    "a, InvertedA"
   ]
  },
  {
   "cell_type": "code",
   "execution_count": 20,
   "metadata": {},
   "outputs": [
    {
     "data": {
      "text/plain": [
       "(np.int64(94), np.int64(168))"
      ]
     },
     "execution_count": 20,
     "metadata": {},
     "output_type": "execute_result"
    }
   ],
   "source": [
    "sum_of_diagonal, sum_of_antidiagonal"
   ]
  },
  {
   "cell_type": "markdown",
   "metadata": {},
   "source": [
    "using Conditions For Numpy Arrays"
   ]
  },
  {
   "cell_type": "code",
   "execution_count": 15,
   "metadata": {},
   "outputs": [
    {
     "data": {
      "text/plain": [
       "array([ 3,  6,  9, 12, 18, 21, 24, 27, 33, 36, 39, 42, 48, 51, 54, 57, 63,\n",
       "       66, 69, 72, 78, 81, 84, 87, 93, 96, 99])"
      ]
     },
     "execution_count": 15,
     "metadata": {},
     "output_type": "execute_result"
    }
   ],
   "source": [
    "x = np.arange(1, 101)\n",
    "\n",
    "true_false_arr = (x % 3 == 0) & (x % 5 != 0)\n",
    "\n",
    "x[true_false_arr]"
   ]
  },
  {
   "cell_type": "markdown",
   "metadata": {},
   "source": [
    "Flatten Sort and Find\n",
    "\n",
    "Flattening into a 1D array for a MultiDimensional Array using ndarray.ravel(array)"
   ]
  },
  {
   "cell_type": "code",
   "execution_count": 13,
   "metadata": {},
   "outputs": [
    {
     "name": "stdout",
     "output_type": "stream",
     "text": [
      "[[55 14 46]\n",
      " [80 64 52]\n",
      " [98 96 26]]\n",
      "[55 14 46 80 64 52 98 96 26]\n",
      "[14 26 46 52 55 64 80 96 98]\n"
     ]
    },
    {
     "data": {
      "text/plain": [
       "(array([98, 96, 80]), array([80, 96, 98]))"
      ]
     },
     "execution_count": 13,
     "metadata": {},
     "output_type": "execute_result"
    }
   ],
   "source": [
    "a = np.random.randint(10, 101, [3, 3])\n",
    "print(a)\n",
    "b = a.flatten()\n",
    "print(b)\n",
    "\n",
    "b.sort()\n",
    "print(b)\n",
    "\n",
    "b[::-1][:3], b[-3:]"
   ]
  },
  {
   "cell_type": "markdown",
   "metadata": {},
   "source": [
    "Broadcasting and Scaling"
   ]
  },
  {
   "cell_type": "code",
   "execution_count": null,
   "metadata": {},
   "outputs": [],
   "source": [
    "np.random.randint()"
   ]
  }
 ],
 "metadata": {
  "kernelspec": {
   "display_name": ".venv",
   "language": "python",
   "name": "python3"
  },
  "language_info": {
   "codemirror_mode": {
    "name": "ipython",
    "version": 3
   },
   "file_extension": ".py",
   "mimetype": "text/x-python",
   "name": "python",
   "nbconvert_exporter": "python",
   "pygments_lexer": "ipython3",
   "version": "3.12.5"
  }
 },
 "nbformat": 4,
 "nbformat_minor": 2
}

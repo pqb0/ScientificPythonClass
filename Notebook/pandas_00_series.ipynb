{
 "cells": [
  {
   "cell_type": "code",
   "execution_count": 1,
   "id": "5e4d727d-64c4-4ada-8951-a4d9a1158289",
   "metadata": {},
   "outputs": [
    {
     "name": "stdout",
     "output_type": "stream",
     "text": [
      "Original Series:\n",
      "0    10\n",
      "1    20\n",
      "2    30\n",
      "3    40\n",
      "dtype: int64\n",
      "\n",
      "Series with Custom Index:\n",
      "a    100\n",
      "b    200\n",
      "c    300\n",
      "dtype: int64\n",
      "\n",
      "Accessing element by custom index ('b'): 200\n",
      "Accessing element by position (1): 200\n",
      "\n",
      "Series after adding 5 to each element:\n",
      "a    105\n",
      "b    205\n",
      "c    305\n",
      "dtype: int64\n"
     ]
    },
    {
     "name": "stderr",
     "output_type": "stream",
     "text": [
      "C:\\Users\\syousaf\\AppData\\Local\\Temp\\ipykernel_7796\\4175557750.py:15: FutureWarning: Series.__getitem__ treating keys as positions is deprecated. In a future version, integer keys will always be treated as labels (consistent with DataFrame behavior). To access a value by position, use `ser.iloc[pos]`\n",
      "  print(\"Accessing element by position (1):\", s_custom[1])\n"
     ]
    }
   ],
   "source": [
    "import pandas as pd\n",
    "\n",
    "# Step 1: Creating a Series from a list\n",
    "s = pd.Series([10, 20, 30, 40])\n",
    "print(\"Original Series:\")\n",
    "print(s)\n",
    "\n",
    "# Step 2: Creating a Series with a custom index\n",
    "s_custom = pd.Series([100, 200, 300], index=['a', 'b', 'c'])\n",
    "print(\"\\nSeries with Custom Index:\")\n",
    "print(s_custom)\n",
    "\n",
    "# Step 3: Accessing elements by custom index and position\n",
    "print(\"\\nAccessing element by custom index ('b'):\", s_custom['b'])\n",
    "print(\"Accessing element by position (1):\", s_custom[1])\n",
    "\n",
    "# Step 4: Applying vectorized operation (adding 5 to each element)\n",
    "s_modified = s_custom + 5\n",
    "print(\"\\nSeries after adding 5 to each element:\")\n",
    "print(s_modified)\n"
   ]
  },
  {
   "cell_type": "code",
   "execution_count": null,
   "id": "b1b1fab0-3d54-49ff-9563-6a336d3518b9",
   "metadata": {},
   "outputs": [],
   "source": []
  }
 ],
 "metadata": {
  "kernelspec": {
   "display_name": "Python 3 (ipykernel)",
   "language": "python",
   "name": "python3"
  },
  "language_info": {
   "codemirror_mode": {
    "name": "ipython",
    "version": 3
   },
   "file_extension": ".py",
   "mimetype": "text/x-python",
   "name": "python",
   "nbconvert_exporter": "python",
   "pygments_lexer": "ipython3",
   "version": "3.12.4"
  }
 },
 "nbformat": 4,
 "nbformat_minor": 5
}

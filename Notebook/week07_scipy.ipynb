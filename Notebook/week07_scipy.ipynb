{
 "cells": [
  {
   "cell_type": "markdown",
   "metadata": {},
   "source": [
    "# SciPy\n",
    "\n",
    "**`SciPy`** is a powerful library that builds upon NumPy, designed to perform advanced scientific and technical computations efficiently. It offers modules for optimization, integration, interpolation, algebraic equations, and more. Like `NumPy`, `SciPy` is written primarily in C, making it highly performant for large-scale computations."
   ]
  },
  {
   "cell_type": "markdown",
   "metadata": {},
   "source": [
    "### 1) Easy Roots 🌱\n",
    "\n",
    "Find the root (zero) of the following equation using [`scipy.optimize.root`](https://docs.scipy.org/doc/scipy/reference/generated/scipy.optimize.root.html) (accepts a function and an initial guess; returns the root value), for example:\n",
    "\n",
    "$$\n",
    "f(x) = cos⁡(x) − x\n",
    "$$\n",
    "\n",
    "*Hint*: You can use `numpy.cos` for the cosine function"
   ]
  },
  {
   "cell_type": "code",
   "execution_count": 1,
   "metadata": {},
   "outputs": [
    {
     "name": "stdout",
     "output_type": "stream",
     "text": [
      "SciPy's result:  message: The solution converged.\n",
      " success: True\n",
      "  status: 1\n",
      "     fun: [ 0.000e+00]\n",
      "       x: [ 7.391e-01]\n",
      "  method: hybr\n",
      "    nfev: 11\n",
      "    fjac: [[-1.000e+00]]\n",
      "       r: [ 1.674e+00]\n",
      "     qtf: [-2.668e-13]\n",
      "\n",
      "x = [0.73908513]\n"
     ]
    }
   ],
   "source": [
    "from scipy.optimize import root\n",
    "import numpy as np\n",
    "\n",
    "\n",
    "def f(x):\n",
    "    return np.cos(x) - x\n",
    "\n",
    "solution = root(f, 0)  # Initial guess: x = 0. In this example you can put basically any number here\n",
    "\n",
    "print(\"SciPy's result:\", solution)  # Preview the output of SciPy's optimization\n",
    "print()\n",
    "print(\"x =\", solution.x)"
   ]
  },
  {
   "cell_type": "markdown",
   "metadata": {},
   "source": [
    "### 2) Basic Optimization with minimize 🔍\n",
    "\n",
    "You task is to optimize a function. For example:\n",
    "$$\n",
    "f(x) = x^2 + 5x + 4\n",
    "$$\n",
    "\n",
    "Find the value of $x$ that minimizes the function using [`scipy.optimize.minimize`](https://docs.scipy.org/doc/scipy/reference/generated/scipy.optimize.minimize.html) (accepts the function and the initial guess; returns the optimized value)"
   ]
  },
  {
   "cell_type": "code",
   "execution_count": 2,
   "metadata": {},
   "outputs": [
    {
     "name": "stdout",
     "output_type": "stream",
     "text": [
      "SciPy's result:   message: Optimization terminated successfully.\n",
      "  success: True\n",
      "   status: 0\n",
      "      fun: -2.249999999999999\n",
      "        x: [-2.500e+00]\n",
      "      nit: 2\n",
      "      jac: [-5.960e-08]\n",
      " hess_inv: [[ 5.000e-01]]\n",
      "     nfev: 6\n",
      "     njev: 3\n",
      "\n",
      "x = [-2.50000002]\n"
     ]
    }
   ],
   "source": [
    "from scipy.optimize import minimize\n",
    "\n",
    "\n",
    "def f(x):\n",
    "    return x**2 + 5*x + 4\n",
    "\n",
    "result = minimize(f, 0)  # Initial guess: x = 0. In this example you can put basically any number here\n",
    "\n",
    "print(\"SciPy's result:\", result)   # Preview the output of SciPy's optimization\n",
    "print()\n",
    "print(\"x =\", result.x)"
   ]
  },
  {
   "cell_type": "markdown",
   "metadata": {},
   "source": [
    "### 3) Determinant and Inverse of a Matrix 🔄\n",
    "\n",
    "Given the following matrix:\n",
    "$$\n",
    "A = \\begin{pmatrix}\n",
    "2 & 3 \\\\\n",
    "1 & 4\n",
    "\\end{pmatrix}\n",
    "$$\n",
    "\n",
    "- Calculate the determinant of the matrix $A$ using [`scipy.linalg.det`](https://docs.scipy.org/doc/scipy/reference/generated/scipy.linalg.det.html) (accepts a matrix; returns the determinant)\n",
    "- Compute the inverse of the matrix $A$ using [`scipy.linalg.inv`](https://docs.scipy.org/doc/scipy/reference/generated/scipy.linalg.inv.html) (accepts a matrix; returns the inverse)\n",
    "- Verify the result by multiplying the original matrix $A$ by its inverse and checking if the result is the identity matrix"
   ]
  },
  {
   "cell_type": "code",
   "execution_count": 3,
   "metadata": {},
   "outputs": [
    {
     "name": "stdout",
     "output_type": "stream",
     "text": [
      "Matrix A:\n",
      " [[2 3]\n",
      " [1 4]]\n",
      "Determinant of A: 5.0\n",
      "Inverse of A:\n",
      " [[ 0.8 -0.6]\n",
      " [-0.2  0.4]]\n",
      "Product of A and its inverse (should be identity):\n",
      " [[ 1. -0.]\n",
      " [ 0.  1.]]\n"
     ]
    }
   ],
   "source": [
    "import numpy as np\n",
    "from scipy.linalg import det, inv\n",
    "\n",
    "\n",
    "A = np.array([[2, 3],\n",
    "              [1, 4]])\n",
    "\n",
    "determinant = det(A)\n",
    "\n",
    "A_inv = inv(A)\n",
    "\n",
    "identity_check = np.round(np.dot(A, A_inv), decimals=5)\n",
    "\n",
    "print(\"Matrix A:\\n\", A)\n",
    "print(\"Determinant of A:\", determinant)\n",
    "print(\"Inverse of A:\\n\", A_inv)\n",
    "print(\"Product of A and its inverse (should be identity):\\n\", identity_check)"
   ]
  },
  {
   "cell_type": "markdown",
   "metadata": {},
   "source": [
    "### 4) Solving a System of Linear Equations 🔗\n",
    "\n",
    "We can solve a system of linear equations using SciPy's [`scipy.linalg.solve`](https://docs.scipy.org/doc/scipy/reference/generated/scipy.linalg.solve.html) (accepts a matrix of coefficients and a vector of constants; returns the solution vector), for example:\n",
    "$$\n",
    "2x + y = 3\n",
    "$$\n",
    "$$\n",
    "3x + 2y = 5\n",
    "$$\n",
    "\n",
    "**Additionally:** check yourself by substituting the values of the calculated $x$ and $y$ in the equations by hand"
   ]
  },
  {
   "cell_type": "code",
   "execution_count": 4,
   "metadata": {},
   "outputs": [
    {
     "name": "stdout",
     "output_type": "stream",
     "text": [
      "Solution: [1. 1.]\n"
     ]
    }
   ],
   "source": [
    "from scipy.linalg import solve\n",
    "\n",
    "\n",
    "A = [[2, 1],\n",
    "     [3, 2]]\n",
    "\n",
    "b = [3, 5]\n",
    "\n",
    "solution = solve(A, b)\n",
    "\n",
    "print(\"Solution:\", solution)  # [1, 1], which means x = 1 and y = 1"
   ]
  },
  {
   "cell_type": "markdown",
   "metadata": {},
   "source": [
    "### 5) Numerical Integration 📐\n",
    "\n",
    "Numerically integrate the following function over the interval $[0, 1]$ using [`scipy.integrate.quad`](https://docs.scipy.org/doc/scipy/reference/generated/scipy.integrate.quad.html) (accepts the function, the left limit and the right limit; returns the integral value + the estimated absolute error), for example:\n",
    "\n",
    "$$\n",
    "f(x) = e^{−x ^ 2}\n",
    "$$\n",
    "\n",
    "*Hint*: You can use `numpy.exp` for the exponential function\n",
    "\n",
    "> The function is called `quad`, because it is based on the **Fortran**'s `QUADPACK` library.\\\n",
    "> Also the term \"*numerical quadrature*\" (often abbreviated to \"*quadrature*\") is more or less a synonym for numerical integration, especially as applied to one-dimensional integrals"
   ]
  },
  {
   "cell_type": "code",
   "execution_count": 5,
   "metadata": {},
   "outputs": [
    {
     "name": "stdout",
     "output_type": "stream",
     "text": [
      "Integral result: 0.7468241328124271 with an estimate of the absolute error: 8.291413475940725e-15\n"
     ]
    }
   ],
   "source": [
    "from scipy.integrate import quad\n",
    "import numpy as np\n",
    "\n",
    "\n",
    "def f(x):\n",
    "    return np.exp(-x**2)\n",
    "\n",
    "result, error = quad(f, 0, 1)\n",
    "\n",
    "print(\"Integral result:\", result, \"with an estimate of the absolute error:\", error)"
   ]
  },
  {
   "cell_type": "markdown",
   "metadata": {},
   "source": [
    "### 6) Interpolation of Data 📈\n",
    "\n",
    "You have the following data points:\n",
    "$$\n",
    "x = [0, 1, 2, 3, 4]\n",
    "$$\n",
    "$$\n",
    "y = [1, 3, 2, 5, 7]\n",
    "$$\n",
    "\n",
    "Linearly interpolate the data using [`scipy.interpolate.interp1d`](https://docs.scipy.org/doc/scipy/reference/generated/scipy.interpolate.interp1d.html) (stands for \"interpolation in 1 dimension\"; accepts the data points and the interpolation method; returns a function that can be used to interpolate new values) and find the interpolated value at $x = 2.5$. The result should be the middle point between $2$ and $5$, which is $3.5$"
   ]
  },
  {
   "cell_type": "code",
   "execution_count": 6,
   "metadata": {},
   "outputs": [
    {
     "name": "stdout",
     "output_type": "stream",
     "text": [
      "Interpolated value at x = 2.5: 3.5\n"
     ]
    }
   ],
   "source": [
    "from scipy.interpolate import interp1d\n",
    "\n",
    "\n",
    "x = [0, 1, 2, 3, 4]\n",
    "y = [1, 3, 2, 5, 7]\n",
    "\n",
    "function = interp1d(x, y)\n",
    "\n",
    "interpolated_value = function(2.5)\n",
    "\n",
    "print(\"Interpolated value at x = 2.5:\", interpolated_value)"
   ]
  },
  {
   "cell_type": "markdown",
   "metadata": {},
   "source": [
    "### 7) Finding Local Maxima/Minima 🌄\n",
    "\n",
    "Use [`scipy.signal.find_peaks`](https://docs.scipy.org/doc/scipy/reference/generated/scipy.signal.find_peaks.html) (accepts the data; returns the indices of the peaks and some properties of the peaks) to identify the local maxima in a given dataset.\n",
    "\n",
    "- Create a randomized sample dataset using NumPy\n",
    "- Find the indices of the peaks\n",
    "- Convert the dataset to integer type for easier visualization."
   ]
  },
  {
   "cell_type": "code",
   "execution_count": 7,
   "metadata": {},
   "outputs": [
    {
     "name": "stdout",
     "output_type": "stream",
     "text": [
      "Dataset: [  -4  -35  132  112    0   75   52  -26  -93    6 -125   -5   30   95  110   96  154   66   45  -70]\n",
      "Indices of peaks: [ 2  5  9 14 16]\n"
     ]
    }
   ],
   "source": [
    "import numpy as np\n",
    "from scipy.signal import find_peaks\n",
    "\n",
    "np.set_printoptions(edgeitems=30, linewidth=180)  # Prettier printing\n",
    "\n",
    "\n",
    "x = np.linspace(0, 10, 20)\n",
    "y = np.sin(x) + 0.5 * np.random.normal(size=x.size)\n",
    "\n",
    "peaks, _ = find_peaks(y)\n",
    "\n",
    "print(\"Dataset:\", (y * 100).astype(int))  # We can convert the dataset to integer type for easier visualization\n",
    "print(\"Indices of peaks:\", peaks)"
   ]
  },
  {
   "cell_type": "markdown",
   "metadata": {},
   "source": [
    "### 8) (Hard math) Solving Differential Equations 🧮\n",
    "\n",
    "Solve the ordinary differential equation (ODE) using [`scipy.integrate.solve_ivp`](https://docs.scipy.org/doc/scipy/reference/generated/scipy.integrate.solve_ivp.html) (stands for \"Initial value problem\").\n",
    "\n",
    "This function numerically integrates a system of ODEs given an initial value:\n",
    "```text\n",
    "dy / dt = f(t, y)\n",
    "y(t0) = y0\n",
    "```\n",
    "\n",
    "With the initial condition $y(0) = 1$, solve the following ODE over the interval $[0, 5]$:\n",
    "\n",
    "$$\n",
    "\\frac{dy}{dx} = −2y\n",
    "$$\n",
    "\n",
    "The `solve_ivp` function accepts the ODE function ($f$), the interval ($[0, 5]$), and the initial condition ($[1]$); returns the value of $y$ that satisfies the ODE\n",
    "\n",
    "*Hint*: You can use the `max_step` parameter to increase the number of points in the output, which would make the graph smoother"
   ]
  },
  {
   "cell_type": "code",
   "execution_count": 8,
   "metadata": {},
   "outputs": [
    {
     "name": "stdout",
     "output_type": "stream",
     "text": [
      "Solution (as points):\n",
      "t = 0.00, y = 1.00\n",
      "t = 0.16, y = 0.73\n",
      "t = 0.32, y = 0.53\n",
      "t = 0.48, y = 0.38\n",
      "t = 0.64, y = 0.28\n",
      "t = 0.80, y = 0.20\n",
      "t = 0.96, y = 0.15\n",
      "t = 1.12, y = 0.11\n",
      "t = 1.28, y = 0.08\n",
      "t = 1.44, y = 0.06\n",
      "t = 1.60, y = 0.04\n"
     ]
    },
    {
     "data": {
      "image/png": "[encoded data removed]",
      "text/plain": [
       "<Figure size 640x480 with 1 Axes>"
      ]
     },
     "metadata": {},
     "output_type": "display_data"
    }
   ],
   "source": [
    "from scipy.integrate import solve_ivp\n",
    "import matplotlib.pyplot as plt\n",
    "\n",
    "\n",
    "def dydx(x, y):\n",
    "    return -2 * y\n",
    "\n",
    "solution = solve_ivp(dydx, [0, 5], [1], max_step=0.01)\n",
    "\n",
    "print(\"Solution (as points):\")\n",
    "amount_of_points = 10\n",
    "for i in range(0, len(solution.t) // 3, len(solution.t) // 3 // amount_of_points):\n",
    "    print(f\"t = {solution.t[i]:.2f}, y = {solution.y[0, i]:.2f}\")\n",
    "\n",
    "plt.plot(solution.t, solution.y[0], label='y(t) = e^(-2t)')\n",
    "plt.xlabel('t')\n",
    "plt.ylabel('y(t)')\n",
    "plt.title('Solution of dy/dx = -2y')\n",
    "plt.grid(True)\n",
    "plt.legend()\n",
    "plt.show()"
   ]
  }
 ],
 "metadata": {
  "kernelspec": {
   "display_name": "Python 3",
   "language": "python",
   "name": "python3"
  },
  "language_info": {
   "codemirror_mode": {
    "name": "ipython",
    "version": 3
   },
   "file_extension": ".py",
   "mimetype": "text/x-python",
   "name": "python",
   "nbconvert_exporter": "python",
   "pygments_lexer": "ipython3",
   "version": "3.12.2"
  }
 },
 "nbformat": 4,
 "nbformat_minor": 2
}

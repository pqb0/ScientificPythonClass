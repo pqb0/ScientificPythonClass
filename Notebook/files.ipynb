{
 "cells": [
  {
   "cell_type": "code",
   "execution_count": null,
   "metadata": {},
   "outputs": [],
   "source": [
    "/Users/pabo/ScientificPythonClass/Notebook/pandas_02.2.ipynb"
   ]
  },
  {
   "cell_type": "code",
   "execution_count": 6,
   "metadata": {},
   "outputs": [
    {
     "name": "stdout",
     "output_type": "stream",
     "text": [
      "Hola compa;eros\n",
      "Lectura de hueva\n",
      "There are 86 students registered\n"
     ]
    }
   ],
   "source": [
    "with open('/Users/pabo/ScientificPythonClass/Notebook/test_write.txt', 'w+', encoding=\"utf-8\") as f:\n",
    "    num_char = f.write('Hola compa;eros\\n')\n",
    "    num_char += f.write(\"Lectura de hueva\\n\")\n",
    "    num_students = 86\n",
    "    str_students_record = f\"There are {num_students} students registered\"\n",
    "    num_char += f.write(str_students_record)\n",
    "    \n",
    "    f.seek(0)\n",
    "\n",
    "    contents = f.read()\n",
    "    print(contents)"
   ]
  }
 ],
 "metadata": {
  "kernelspec": {
   "display_name": ".venv",
   "language": "python",
   "name": "python3"
  },
  "language_info": {
   "codemirror_mode": {
    "name": "ipython",
    "version": 3
   },
   "file_extension": ".py",
   "mimetype": "text/x-python",
   "name": "python",
   "nbconvert_exporter": "python",
   "pygments_lexer": "ipython3",
   "version": "3.12.5"
  }
 },
 "nbformat": 4,
 "nbformat_minor": 2
}

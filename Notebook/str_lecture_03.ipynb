{
 "cells": [
  {
   "cell_type": "markdown",
   "id": "8c22dbc9-d764-4a83-ad26-45b232159031",
   "metadata": {},
   "source": [
    "---\n",
    "\n",
    "**Slide 1:**\n",
    "\n",
    "**Title:**  \n",
    "Mastering Python's Text Sequence Type – `str`  \n",
    "**Subtitle:**  \n",
    "An In-Depth Exploration with a Server Log Analyzer Case Study\n",
    "\n",
    "---\n",
    "\n",
    "**Explanation:**\n",
    "\n",
    "We'll explore Python's `str` methods through the lens of a real-world application: building a server log analyzer. This tool will parse and analyze server logs to extract valuable insights, a task critical in maintaining and optimizing server performance.\n"
   ]
  },
  {
   "cell_type": "code",
   "execution_count": 46,
   "id": "5cbb140d-8d85-4e63-8c5e-e8bca0851f39",
   "metadata": {},
   "outputs": [],
   "source": [
    "# slide 1\n",
    "\n",
    "log_entry = \"INFO: User logged in at 10:15 AM\""
   ]
  },
  {
   "cell_type": "markdown",
   "id": "191b03f7-17b0-44a7-ac8e-69370463ed46",
   "metadata": {},
   "source": [
    "---\n",
    "\n",
    "**Slide 2:**\n",
    "\n",
    "**Agenda:**  \n",
    "- Introduction to Python's `str` Type  \n",
    "- Importance of String Manipulation in Log Analysis  \n",
    "- Case Study Overview: Server Log Analyzer  \n",
    "- Detailed Exploration of `str` Methods  \n",
    "- Practical Code Snippets and Examples  \n",
    "\n",
    "---\n",
    "\n",
    "**Explanation:**\n",
    "\n",
    "Our agenda includes a comprehensive look at the `str` type, its significance in processing textual data like server logs, and how we can leverage its methods in our case study. We'll cover each `str` method with definitions, examples, and code snippets, ensuring you can apply these concepts effectively.\n"
   ]
  },
  {
   "cell_type": "markdown",
   "id": "4dddf558-c4a6-4698-9337-0245d984a91c",
   "metadata": {},
   "source": [
    "---\n",
    "\n",
    "**Slide 3:**\n",
    "\n",
    "**Understanding Python's `str` Type**\n",
    "\n",
    "- **Definition:** Immutable sequence of Unicode characters  \n",
    "- **Characteristics:**  \n",
    "  - Supports indexing and slicing  \n",
    "  - Rich set of methods for text manipulation  \n",
    "- **Example:**  \n",
    "\n",
    "```python\n",
    "log_entry = \"INFO: User logged in at 10:15 AM\"\n",
    "```\n",
    "\n",
    "---\n",
    "\n",
    "**Explanation:**\n",
    "\n",
    "Python's `str` type is fundamental for handling text data. It's immutable, meaning once created, it cannot be modified. This immutability ensures that strings are hashable and can be used as dictionary keys, which is beneficial in our log analyzer for tracking unique log entries.\n",
    "\n",
    "---\n"
   ]
  },
  {
   "cell_type": "markdown",
   "id": "ed5254ed-db58-4b06-8f85-580169b45a09",
   "metadata": {},
   "source": [
    "**Slide 4:**\n",
    "\n",
    "**Importance of String Manipulation in Log Analysis**\n",
    "\n",
    "- Parsing log entries  \n",
    "- Extracting critical information (timestamps, error messages)  \n",
    "- Formatting and reporting  \n",
    "\n",
    "**Real-World Application:** Monitoring server health and performance\n",
    "\n",
    "---\n",
    "\n",
    "**Explanation:**\n",
    "\n",
    "String manipulation is at the heart of log analysis. Server logs are text files that record events occurring within the server. Efficiently parsing and analyzing these logs allows us to detect anomalies, track user activity, and monitor server health.\n",
    "\n",
    "---\n",
    "\n"
   ]
  },
  {
   "cell_type": "markdown",
   "id": "a004b522-6739-47c8-9476-f974af29356c",
   "metadata": {},
   "source": [
    "**Slide 5:**\n",
    "\n",
    "**Case Study Introduction: Server Log Analyzer**\n",
    "\n",
    "**Objective:** Develop a tool to parse and analyze server logs\n",
    "\n",
    "- **Tasks:**  \n",
    "  - Read and process log files  \n",
    "  - Extract and categorize log entries  \n",
    "  - Generate insightful reports  \n",
    "\n",
    "---\n",
    "\n",
    "**Explanation:**\n",
    "\n",
    "Our case study focuses on creating a server log analyzer. This tool will automate the tedious task of manually sifting through log files, enabling us to quickly identify issues and trends.\n",
    "\n",
    "---\n",
    "\n"
   ]
  },
  {
   "cell_type": "markdown",
   "id": "710773a8-32b5-40cd-96cf-f65446ebecce",
   "metadata": {},
   "source": [
    "**Slide 6:**\n",
    "\n",
    "**Method: `str.split()`**\n",
    "\n",
    "- **Definition:** Splits a string into a list using a separator  \n",
    "- **Usage in Log Analysis:** Parsing log entries into components  \n",
    "\n",
    "**Code Snippet:**\n",
    "\n",
    "```python\n",
    "log_entry = \"INFO: User logged in at 10:15 AM\"\n",
    "parts = log_entry.split(\": \")\n",
    "# Output: ['INFO', 'User logged in at 10:15 AM']\n",
    "```\n",
    "\n",
    "---\n",
    "\n",
    "**Explanation:**\n",
    "\n",
    "The `str.split()` method is essential for breaking down log entries into manageable parts. In logs, entries often follow a pattern, such as separating the log level from the message using a colon.\n",
    "\n",
    "---\n",
    "\n"
   ]
  },
  {
   "cell_type": "code",
   "execution_count": 47,
   "id": "373ae32b-2030-4b99-8e2f-247851537c57",
   "metadata": {},
   "outputs": [
    {
     "name": "stdout",
     "output_type": "stream",
     "text": [
      "['INFO', 'User logged in at 10:15 AM']\n"
     ]
    }
   ],
   "source": [
    "# slide 6\n",
    "\n",
    "log_entry = \"INFO: User logged in at 10:15 AM\"\n",
    "parts = log_entry.split(\": \")\n",
    "print(parts)"
   ]
  },
  {
   "cell_type": "markdown",
   "id": "a33fada8-bc43-46f4-b33b-e958b46dea14",
   "metadata": {},
   "source": [
    "**Slide 7:**\n",
    "\n",
    "**Method: `str.startswith()` and `str.endswith()`**\n",
    "\n",
    "- **Definition:**  \n",
    "  - `str.startswith(prefix)`: Checks if string starts with `prefix`  \n",
    "  - `str.endswith(suffix)`: Checks if string ends with `suffix`  \n",
    "- **Usage:** Filtering log entries by type or date  \n",
    "\n",
    "**Code Snippet:**\n",
    "\n",
    "```python\n",
    "if log_entry.startswith(\"ERROR\"):\n",
    "    handle_error(log_entry)\n",
    "```\n",
    "\n",
    "---\n",
    "\n",
    "**Explanation:**\n",
    "\n",
    "Using `str.startswith()`, we can quickly identify error messages in the logs. This allows us to focus on critical issues that may need immediate attention.\n",
    "\n",
    "---\n",
    "\n"
   ]
  },
  {
   "cell_type": "code",
   "execution_count": 4,
   "id": "59c6d7c4-11c4-4170-9582-bcde4b4a93c2",
   "metadata": {},
   "outputs": [
    {
     "name": "stdout",
     "output_type": "stream",
     "text": [
      "[ALERT] Time: , Error: Disk space low\n"
     ]
    }
   ],
   "source": [
    "# slide 7\n",
    "\n",
    "error_count = 0\n",
    "\n",
    "def handle_error(log_entry):\n",
    "    # Extract the timestamp and error message\n",
    "    level, _, rest = log_entry.partition(\": \")\n",
    "    error_message, _, timestamp = rest.partition(\" @ \")\n",
    "    \n",
    "    # Format the error details\n",
    "    error_details = f\"Time: {timestamp}, Error: {error_message}\"\n",
    "    \n",
    "    # Write the error details to a separate error log file\n",
    "    with open('error_report.log', 'a') as error_file:\n",
    "        error_file.write(error_details + '\\n')\n",
    "    \n",
    "    # Optionally, send an alert email\n",
    "    send_alert_email(error_details)\n",
    "    \n",
    "    # Increment an error counter\n",
    "    global error_count\n",
    "    error_count += 1\n",
    "    \n",
    "    # Print to console for monitoring\n",
    "    print(f\"[ALERT] {error_details}\")\n",
    "\n",
    "def send_alert_email(error_details):\n",
    "    # Function to send an alert email (implementation depends on your email service)\n",
    "    # This is a placeholder for email sending logic\n",
    "    pass\n",
    "\n",
    "log_entry = \"ERROR: Disk space low\"\n",
    "if log_entry.startswith(\"ERROR\"):\n",
    "    handle_error(log_entry)"
   ]
  },
  {
   "cell_type": "markdown",
   "id": "f825f3df-6666-4023-8aa3-15a6daeb36b4",
   "metadata": {},
   "source": [
    "**Slide 8:**\n",
    "\n",
    "**Method: `str.find()` and `str.index()`**\n",
    "\n",
    "- **Definition:**  \n",
    "  - `str.find(sub)`: Returns lowest index of `sub` or -1  \n",
    "  - `str.index(sub)`: Returns lowest index of `sub` or raises `ValueError`  \n",
    "- **Usage:** Locating substrings within log entries  \n",
    "\n",
    "**Code Snippet:**\n",
    "\n",
    "```python\n",
    "timestamp_start = log_entry.find(\"at \")\n",
    "timestamp = log_entry[timestamp_start + 3:]\n",
    "# Output: '10:15 AM'\n",
    "```\n",
    "\n",
    "---\n",
    "\n",
    "**Explanation:**\n",
    "\n",
    "We can use `str.find()` to locate the position of specific keywords, such as \"at \" to extract timestamps. Unlike `str.index()`, `str.find()` won't raise an exception if the substring isn't found, which can be safer in parsing unpredictable log formats.\n",
    "\n",
    "---\n",
    "\n"
   ]
  },
  {
   "cell_type": "code",
   "execution_count": 5,
   "id": "f5f1c6e6-b980-416d-99b8-8c825e3eb203",
   "metadata": {},
   "outputs": [
    {
     "name": "stdout",
     "output_type": "stream",
     "text": [
      "10:15 AM\n"
     ]
    }
   ],
   "source": [
    "# slide 8\n",
    "\n",
    "log_entry = \"INFO: User logged in at 10:15 AM\"\n",
    "timestamp_start = log_entry.find(\"at \")\n",
    "timestamp = log_entry[timestamp_start + 3:]\n",
    "print(timestamp)"
   ]
  },
  {
   "cell_type": "markdown",
   "id": "dc798536-384d-4b65-ab10-9fa8ee0be64d",
   "metadata": {},
   "source": [
    "**Slide 9:**\n",
    "\n",
    "**Method: `str.strip()`**\n",
    "\n",
    "- **Definition:** Removes leading and trailing whitespace  \n",
    "- **Usage:** Cleaning log entries before processing  \n",
    "\n",
    "**Code Snippet:**\n",
    "\n",
    "```python\n",
    "raw_entry = \"   ERROR: Disk space low    \"\n",
    "clean_entry = raw_entry.strip()\n",
    "# Output: 'ERROR: Disk space low'\n",
    "```\n",
    "\n",
    "---\n",
    "\n",
    "**Explanation:**\n",
    "\n",
    "Logs may contain unwanted whitespace. `str.strip()` ensures that our entries are clean before we parse them, preventing potential errors in data extraction.\n",
    "\n",
    "---\n",
    "\n"
   ]
  },
  {
   "cell_type": "code",
   "execution_count": 6,
   "id": "0af4f55c-7eb4-4cbc-8231-2f5ade327935",
   "metadata": {},
   "outputs": [
    {
     "name": "stdout",
     "output_type": "stream",
     "text": [
      "ERROR: Disk space low\n"
     ]
    }
   ],
   "source": [
    "# slide 9\n",
    "\n",
    "raw_entry = \"   ERROR: Disk space low    \"\n",
    "clean_entry = raw_entry.strip()\n",
    "print(clean_entry)"
   ]
  },
  {
   "cell_type": "markdown",
   "id": "6a170e76-65b0-46fe-8659-a2fb9c228b01",
   "metadata": {},
   "source": [
    "**Slide 10:**\n",
    "\n",
    "**Method: `str.lower()` and `str.upper()`**\n",
    "\n",
    "- **Definition:**  \n",
    "  - `str.lower()`: Converts all characters to lowercase  \n",
    "  - `str.upper()`: Converts all characters to uppercase  \n",
    "- **Usage:** Case-insensitive comparisons  \n",
    "\n",
    "**Code Snippet:**\n",
    "\n",
    "```python\n",
    "if \"error\" in log_entry.lower():\n",
    "    error_count += 1\n",
    "```\n",
    "\n",
    "---\n",
    "\n",
    "**Explanation:**\n",
    "\n",
    "Log entries might have varying cases. Converting strings to a uniform case using `str.lower()` allows for consistent searching and counting, such as tallying the number of errors.\n",
    "\n",
    "---\n",
    "\n"
   ]
  },
  {
   "cell_type": "code",
   "execution_count": 7,
   "id": "7ea1cd50-cd50-45f9-aeb1-5677b782a39a",
   "metadata": {},
   "outputs": [
    {
     "name": "stdout",
     "output_type": "stream",
     "text": [
      "0\n"
     ]
    }
   ],
   "source": [
    "# slide 10\n",
    "\n",
    "error_count = 0\n",
    "\n",
    "log_entry = \"ERROR: Disk space low\"\n",
    "log_entry = \"INFO: User logged in at 10:15 AM\"\n",
    "if \"error\" in log_entry.lower():\n",
    "    error_count += 1\n",
    "print(error_count)"
   ]
  },
  {
   "cell_type": "markdown",
   "id": "9b813ad8-3bd9-4167-ac2e-d2fc69be1f47",
   "metadata": {},
   "source": [
    "**Slide 11:**\n",
    "\n",
    "**Method: `str.replace()`**\n",
    "\n",
    "- **Definition:** Replaces occurrences of a substring with another  \n",
    "- **Usage:** Normalizing log entries  \n",
    "\n",
    "**Code Snippet:**\n",
    "\n",
    "```python\n",
    "normalized_entry = log_entry.replace(\" at \", \" @ \")\n",
    "# Output: 'INFO: User logged in @ 10:15 AM'\n",
    "```\n",
    "\n",
    "---\n",
    "\n",
    "**Explanation:**\n",
    "\n",
    "Replacing certain substrings can help standardize log entries, making them easier to parse or more concise for reporting purposes.\n",
    "\n",
    "---\n",
    "\n"
   ]
  },
  {
   "cell_type": "code",
   "execution_count": 8,
   "id": "483b7aaa-1ed0-400b-9ad9-913c152be9f4",
   "metadata": {},
   "outputs": [
    {
     "name": "stdout",
     "output_type": "stream",
     "text": [
      "INFO: User logged in @ 10:15 AM\n"
     ]
    }
   ],
   "source": [
    "# slide 11\n",
    "\n",
    "log_entry = \"INFO: User logged in at 10:15 AM\"\n",
    "normalized_entry = log_entry.replace(\" at \", \" @ \")\n",
    "print(normalized_entry)"
   ]
  },
  {
   "cell_type": "markdown",
   "id": "b7167ffd-8eef-4e46-9f07-f484ae1b9a43",
   "metadata": {},
   "source": [
    "**Slide 12:**\n",
    "\n",
    "**Method: `str.join()`**\n",
    "\n",
    "- **Definition:** Concatenates an iterable of strings with a separator  \n",
    "- **Usage:** Reconstructing strings after processing  \n",
    "\n",
    "**Code Snippet:**\n",
    "\n",
    "```python\n",
    "fields = ['ERROR', 'Disk space low', '11:00 AM']\n",
    "log_entry = \" | \".join(fields)\n",
    "# Output: 'ERROR | Disk space low | 11:00 AM'\n",
    "```\n",
    "\n",
    "---\n",
    "\n",
    "**Explanation:**\n",
    "\n",
    "After extracting and possibly modifying components of a log entry, `str.join()` allows us to reassemble them into a formatted string for output or storage.\n",
    "\n",
    "---\n",
    "\n"
   ]
  },
  {
   "cell_type": "code",
   "execution_count": 9,
   "id": "24f5d87c-06e1-49cb-bd61-b82745382848",
   "metadata": {},
   "outputs": [
    {
     "name": "stdout",
     "output_type": "stream",
     "text": [
      "ERROR=|=Disk space low=|=11:00 AM\n"
     ]
    }
   ],
   "source": [
    "# slide 12\n",
    "\n",
    "fields = ['ERROR', 'Disk space low', '11:00 AM']\n",
    "log_entry = \"=|=\".join(fields)\n",
    "print(log_entry)"
   ]
  },
  {
   "cell_type": "markdown",
   "id": "93dd0722-6a92-4c9c-82d1-0fdc53dd3540",
   "metadata": {},
   "source": [
    "**Slide 13:**\n",
    "\n",
    "**Method: `str.partition()` and `str.rpartition()`**\n",
    "\n",
    "- **Definition:** Splits a string at the first (or last) occurrence of a separator  \n",
    "- **Usage:** Isolating specific parts of log entries  \n",
    "\n",
    "**Code Snippet:**\n",
    "\n",
    "```python\n",
    "level, _, message = log_entry.partition(\": \")\n",
    "# level: 'INFO', message: 'User logged in at 10:15 AM'\n",
    "```\n",
    "\n",
    "---\n",
    "\n",
    "**Explanation:**\n",
    "\n",
    "`str.partition()` is particularly useful when you need to split a string into exactly three parts: what comes before the separator, the separator itself, and what comes after.\n",
    "\n",
    "---\n",
    "\n"
   ]
  },
  {
   "cell_type": "code",
   "execution_count": 10,
   "id": "dd6e04db-22ab-429c-b848-2ba3ec5dd6ae",
   "metadata": {},
   "outputs": [
    {
     "name": "stdout",
     "output_type": "stream",
     "text": [
      "INFO\n",
      "User logged in at 10:15 AM\n"
     ]
    }
   ],
   "source": [
    "# slide 13\n",
    "\n",
    "log_entry = \"INFO: User logged in at 10:15 AM\"\n",
    "level, _, message = log_entry.partition(\": \")\n",
    "print(level)\n",
    "print(message)"
   ]
  },
  {
   "cell_type": "markdown",
   "id": "31610a22-7bb2-410c-8ce5-1f08d5010ab7",
   "metadata": {},
   "source": [
    "**Slide 14:**\n",
    "\n",
    "**Method: `str.count()`**\n",
    "\n",
    "- **Definition:** Counts non-overlapping occurrences of a substring  \n",
    "- **Usage:** Counting specific events in logs  \n",
    "\n",
    "**Code Snippet:**\n",
    "\n",
    "```python\n",
    "error_count = log_data.count(\"ERROR\")\n",
    "```\n",
    "\n",
    "---\n",
    "\n",
    "**Explanation:**\n",
    "\n",
    "Understanding the frequency of certain events, like errors or warnings, is critical for assessing server health. `str.count()` provides a quick way to quantify these occurrences.\n",
    "\n",
    "---\n",
    "\n"
   ]
  },
  {
   "cell_type": "code",
   "execution_count": 11,
   "id": "1484757f-83f1-4a52-8933-83e786d0cb2c",
   "metadata": {},
   "outputs": [
    {
     "name": "stdout",
     "output_type": "stream",
     "text": [
      "3\n"
     ]
    }
   ],
   "source": [
    "# slide 14\n",
    "\n",
    "#log_data = \"ERROR: Disk space low, ERROR: Connection failure\"\n",
    "log_data = \"\"\"\n",
    "ERROR: Disk space low, \n",
    "ERROR: Connection failure,\n",
    "ERROR: IO failure\n",
    "\"\"\"\n",
    "error_count = log_data.count(\"ERROR\")\n",
    "print(error_count)\n",
    "\n",
    "\n",
    "#text = \"abababa\"\n",
    "#count = text.count(\"aba\")\n",
    "#print(count)  # Output: 2\n"
   ]
  },
  {
   "cell_type": "markdown",
   "id": "23eba7dd-3139-477f-af24-a7684b2637c0",
   "metadata": {},
   "source": [
    "**Slide 15:**\n",
    "\n",
    "**Method: `str.splitlines()`**\n",
    "\n",
    "- **Definition:** Splits a string at line breaks  \n",
    "- **Usage:** Reading multi-line log files  \n",
    "\n",
    "**Code Snippet:**\n",
    "\n",
    "```python\n",
    "with open('server.log') as f:\n",
    "    log_entries = f.read().splitlines()\n",
    "```\n",
    "\n",
    "---\n",
    "\n",
    "**Explanation:**\n",
    "\n",
    "Server logs are typically multi-line text files. `str.splitlines()` enables us to process each log entry individually by splitting the entire log file into a list of entries.\n",
    "\n",
    "---\n",
    "\n"
   ]
  },
  {
   "cell_type": "code",
   "execution_count": 12,
   "id": "31cae8fc-2c94-4865-b690-85e8eebbf9b5",
   "metadata": {},
   "outputs": [
    {
     "name": "stdout",
     "output_type": "stream",
     "text": [
      "['DEBUG: Query executed successfully @ 09:05 AM', 'CRITICAL: System overheating detected @ 09:10 AM', \"INFO: User 'guest' logged out @ 09:15 AM\", \"ERROR: Disk read failure on 'E:' @ 09:20 AM\", '', \"INFO: User 'admin' logged in @ Time: 08:15 AM\", 'ERROR: Unable to connect to database @ Time: 08:17 AM', 'WARNING: High memory usage detected @ Time: 08:20 AM', '', \"INFO: User 'admin' accessed 'Dashboard' @ Time: 08:25 AM\", 'ERROR: Timeout occurred while fetching data @ Time: 08:30 AM', '', '', 'INFO: Scheduled backup completed @ Time: 08:45 AM', \"WARNING: Low disk space on 'C:' @ Time: 08:50 AM\", 'ERROR: Failed to send email notification @ Time: 09:00 AM']\n"
     ]
    }
   ],
   "source": [
    "# slide 15\n",
    "\n",
    "with open('server.log') as f:\n",
    "    log_entries = f.read().splitlines()\n",
    "print(log_entries)"
   ]
  },
  {
   "cell_type": "markdown",
   "id": "6887be7d-df7f-4cdc-9013-35d341e2e5b3",
   "metadata": {},
   "source": [
    "**Slide 16:**\n",
    "\n",
    "**Method: `str.isdigit()` and `str.isnumeric()`**\n",
    "\n",
    "- **Definition:** Checks if all characters are digits/numeric  \n",
    "- **Usage:** Validating numerical data in logs  \n",
    "\n",
    "**Code Snippet:**\n",
    "\n",
    "```python\n",
    "if response_time.isdigit():\n",
    "    total_time += int(response_time)\n",
    "```\n",
    "\n",
    "---\n",
    "\n",
    "**Explanation:**\n",
    "\n",
    "When extracting numerical data like response times, it's important to validate that the strings represent numbers to prevent runtime errors during type conversion.\n",
    "\n",
    "---\n",
    "\n"
   ]
  },
  {
   "cell_type": "code",
   "execution_count": 41,
   "id": "735d1c33-b9dd-4128-8804-6f6cfed1b8be",
   "metadata": {},
   "outputs": [
    {
     "name": "stdout",
     "output_type": "stream",
     "text": [
      "6\n",
      "True\n",
      "True\n",
      "False\n",
      "True\n",
      "False\n",
      "True\n"
     ]
    }
   ],
   "source": [
    "# slide 16\n",
    "\n",
    "total_time = 1\n",
    "response_time = \"5\"\n",
    "if response_time.isdigit():\n",
    "    total_time += int(response_time)\n",
    "print(total_time)\n",
    "\n",
    "\n",
    "digit_str = \"12345\"\n",
    "numeric_str = \"½\"     # Unicode character for one-half\n",
    "roman_num = \"Ⅻ\"       # Unicode character for Roman numeral twelve\n",
    "\n",
    "print(digit_str.isdigit())     # Output: True\n",
    "print(digit_str.isnumeric())   # Output: True\n",
    "\n",
    "print(numeric_str.isdigit())   # Output: False\n",
    "print(numeric_str.isnumeric()) # Output: True\n",
    "\n",
    "print(roman_num.isdigit())     # Output: False\n",
    "print(roman_num.isnumeric())   # Output: True\n"
   ]
  },
  {
   "cell_type": "markdown",
   "id": "93476e2d-1980-4399-945f-d3968082c601",
   "metadata": {},
   "source": [
    "**Slide 17:**\n",
    "\n",
    "**Method: `str.isalpha()` and `str.isalnum()`**\n",
    "\n",
    "- **Definition:**  \n",
    "  - `str.isalpha()`: Checks if all characters are alphabetic  \n",
    "  - `str.isalnum()`: Checks if all characters are alphanumeric  \n",
    "- **Usage:** Validating user IDs or codes in logs  \n",
    "\n",
    "**Code Snippet:**\n",
    "\n",
    "```python\n",
    "if user_id.isalnum():\n",
    "    valid_users.append(user_id)\n",
    "```\n",
    "\n",
    "---\n",
    "\n",
    "**Explanation:**\n",
    "\n",
    "User IDs or codes extracted from logs may need validation. Ensuring they are alphanumeric prevents injection of malformed or malicious data into our analysis.\n",
    "\n",
    "---\n",
    "\n"
   ]
  },
  {
   "cell_type": "code",
   "execution_count": 14,
   "id": "db8ede39-dc82-4315-a3b7-d20ac3b5d377",
   "metadata": {},
   "outputs": [
    {
     "name": "stdout",
     "output_type": "stream",
     "text": [
      "['john11']\n"
     ]
    }
   ],
   "source": [
    "# slide 17\n",
    "\n",
    "valid_users = []\n",
    "user_id = \"john11\"\n",
    "if user_id.isalnum():\n",
    "    valid_users.append(user_id)\n",
    "print(valid_users)\n"
   ]
  },
  {
   "cell_type": "markdown",
   "id": "9bab46ad-45ec-456b-8463-1af779fa3cac",
   "metadata": {},
   "source": [
    "**Slide 18:**\n",
    "\n",
    "**Method: `str.isspace()`**\n",
    "\n",
    "- **Definition:** Checks if all characters are whitespace  \n",
    "- **Usage:** Detecting empty or invalid log entries  \n",
    "\n",
    "**Code Snippet:**\n",
    "\n",
    "```python\n",
    "if log_entry.isspace() or not log_entry:\n",
    "    continue  # Skip empty lines\n",
    "```\n",
    "\n",
    "---\n",
    "\n",
    "**Explanation:**\n",
    "\n",
    "Empty lines or lines with only whitespace can occur in logs due to formatting or errors. Detecting and skipping these lines prevents unnecessary processing.\n",
    "\n",
    "---\n",
    "\n"
   ]
  },
  {
   "cell_type": "code",
   "execution_count": 15,
   "id": "d39dbfa2-9145-4e4a-b52b-ca4bf7dae125",
   "metadata": {},
   "outputs": [
    {
     "name": "stdout",
     "output_type": "stream",
     "text": [
      "ERROR: Disk space low.\n",
      "ERROR: IO failure.\n"
     ]
    }
   ],
   "source": [
    "# slide 18\n",
    "\n",
    "log = [\"ERROR: Disk space low.\", \"     \", \"\\n\\n\\n\\n\", \"\", \"ERROR: IO failure.\"]\n",
    "\n",
    "for log_entry in log:\n",
    "    if log_entry.isspace() or not log_entry:\n",
    "        continue  # Skip empty lines\n",
    "    print(log_entry)"
   ]
  },
  {
   "cell_type": "markdown",
   "id": "c2793062-530b-4bde-9ffd-4d02fadd1586",
   "metadata": {},
   "source": [
    "**Slide 19:**\n",
    "\n",
    "**Method: `str.zfill()`**\n",
    "\n",
    "- **Definition:** Pads a numeric string on the left with zeros  \n",
    "- **Usage:** Formatting timestamps or identifiers  \n",
    "\n",
    "**Code Snippet:**\n",
    "\n",
    "```python\n",
    "minute = \"5\"\n",
    "formatted_minute = minute.zfill(2)\n",
    "# Output: '05'\n",
    "```\n",
    "\n",
    "---\n",
    "\n",
    "**Explanation:**\n",
    "\n",
    "Standardizing the format of numbers like minutes or seconds ensures consistency in timestamps, which is crucial when sorting or comparing times.\n",
    "\n",
    "---\n",
    "\n"
   ]
  },
  {
   "cell_type": "code",
   "execution_count": 16,
   "id": "a3ccb75b-9ac7-41fe-a743-0224863e5e0c",
   "metadata": {},
   "outputs": [
    {
     "name": "stdout",
     "output_type": "stream",
     "text": [
      "05\n"
     ]
    }
   ],
   "source": [
    "# slide 19\n",
    "\n",
    "minute = \"5\"\n",
    "formatted_minute = minute.zfill(2)\n",
    "print(formatted_minute)"
   ]
  },
  {
   "cell_type": "markdown",
   "id": "708fef04-6a95-433c-8c86-4e0e618e2290",
   "metadata": {},
   "source": [
    "**Slide 20:**\n",
    "\n",
    "**Method: `str.ljust()`, `str.rjust()`, and `str.center()`**\n",
    "\n",
    "- **Definition:** Adjusts string alignment within a given width  \n",
    "- **Usage:** Formatting output for reports  \n",
    "\n",
    "**Code Snippet:**\n",
    "\n",
    "```python\n",
    "print(level.ljust(8), message.ljust(50), timestamp.rjust(10))\n",
    "```\n",
    "\n",
    "---\n",
    "\n",
    "**Explanation:**\n",
    "\n",
    "Aligning text in generated reports enhances readability. These methods help format our output neatly, which is especially important when dealing with large amounts of data.\n",
    "\n",
    "---\n",
    "\n"
   ]
  },
  {
   "cell_type": "code",
   "execution_count": 17,
   "id": "82363cd6-5775-4339-93df-2acfa406b365",
   "metadata": {},
   "outputs": [
    {
     "name": "stdout",
     "output_type": "stream",
     "text": [
      "INFO: User logged in at 10:15 AM\n",
      "\n",
      "INFO     User logged in at 10:15 AM                           10:15 AM\n",
      "INFO     User logged in at 10:15 AM                           10:15 AM\n",
      "INFO     User logged in at 10:15 AM                           10:15 AM\n"
     ]
    }
   ],
   "source": [
    "# slide 20\n",
    "\n",
    "log_entry = \"INFO: User logged in at 10:15 AM\"\n",
    "print(log_entry)\n",
    "print()\n",
    "\n",
    "level, _, message = log_entry.partition(\": \")\n",
    "print(level.ljust(8), message.ljust(50), timestamp.rjust(10))\n",
    "\n",
    "print(level.ljust(8), message.ljust(50), timestamp.rjust(10))\n",
    "print(level.ljust(8), message.ljust(50), timestamp.rjust(10))"
   ]
  },
  {
   "cell_type": "markdown",
   "id": "0a10a036-8545-4f1f-b4f1-ebd54d2fe4d3",
   "metadata": {},
   "source": [
    "**Slide 21:**\n",
    "\n",
    "**Method: `str.capitalize()` and `str.title()`**\n",
    "\n",
    "- **Definition:**  \n",
    "  - `str.capitalize()`: Capitalizes first character  \n",
    "  - `str.title()`: Capitalizes first character of each word  \n",
    "- **Usage:** Formatting messages  \n",
    "\n",
    "**Code Snippet:**\n",
    "\n",
    "```python\n",
    "formatted_message = message.capitalize()\n",
    "```\n",
    "\n",
    "---\n",
    "\n",
    "**Explanation:**\n",
    "\n",
    "While log entries may not always be properly formatted, capitalizing messages can improve the readability of error reports or summaries generated by our analyzer.\n",
    "\n",
    "---\n",
    "\n"
   ]
  },
  {
   "cell_type": "code",
   "execution_count": 18,
   "id": "2ca29d90-0b54-4f2b-b607-27d70898a5d2",
   "metadata": {},
   "outputs": [
    {
     "name": "stdout",
     "output_type": "stream",
     "text": [
      "the system is up and running!\n",
      "The system is up and running!\n",
      "The System Is Up And Running!\n"
     ]
    }
   ],
   "source": [
    "# slide 21\n",
    "\n",
    "message = \"the system is up and running!\"\n",
    "print(message)\n",
    "\n",
    "formatted_message = message.capitalize()\n",
    "print(formatted_message)\n",
    "\n",
    "titled_message = message.title()\n",
    "print(titled_message)"
   ]
  },
  {
   "cell_type": "markdown",
   "id": "27dd5a3f-f7ee-4b6b-9528-28cb44e3998b",
   "metadata": {},
   "source": [
    "**Slide 22:**\n",
    "\n",
    "**Method: `str.swapcase()`**\n",
    "\n",
    "- **Definition:** Swaps the case of all characters  \n",
    "- **Usage:** Analyzing case sensitivity issues  \n",
    "\n",
    "**Code Snippet:**\n",
    "\n",
    "```python\n",
    "swapped_entry = log_entry.swapcase()\n",
    "```\n",
    "\n",
    "---\n",
    "\n",
    "**Explanation:**\n",
    "\n",
    "Although not commonly used in log analysis, `str.swapcase()` can help in detecting inconsistencies in log entries where case sensitivity might affect parsing.\n",
    "\n",
    "---\n",
    "\n"
   ]
  },
  {
   "cell_type": "code",
   "execution_count": 19,
   "id": "efad35b5-e9a4-4601-8556-30bbe8d8871f",
   "metadata": {},
   "outputs": [
    {
     "name": "stdout",
     "output_type": "stream",
     "text": [
      "tHE sYSTEM iS uP aND rUNNING!\n"
     ]
    }
   ],
   "source": [
    "# slide 22\n",
    "\n",
    "log_entry = \"The System Is Up And Running!\"\n",
    "swapped_entry = log_entry.swapcase()\n",
    "print(swapped_entry)"
   ]
  },
  {
   "cell_type": "markdown",
   "id": "62809510-079c-4f7b-8eaf-47eac74543a2",
   "metadata": {},
   "source": [
    "**Slide 23:**\n",
    "\n",
    "**Method: `str.islower()` and `str.isupper()`**\n",
    "\n",
    "- **Definition:** Checks if all characters are lower/upper case  \n",
    "- **Usage:** Ensuring consistent case in logs  \n",
    "\n",
    "**Code Snippet:**\n",
    "\n",
    "```python\n",
    "if not level.isupper():\n",
    "    level = level.upper()\n",
    "```\n",
    "\n",
    "---\n",
    "\n",
    "**Explanation:**\n",
    "\n",
    "Standardizing the case of log levels (e.g., INFO, ERROR) ensures that our analyzer correctly categorizes each entry, regardless of how they appear in the log file.\n",
    "\n",
    "---\n",
    "\n"
   ]
  },
  {
   "cell_type": "code",
   "execution_count": 20,
   "id": "1acd2965-dc2d-4a69-a53d-e054c7c5e65e",
   "metadata": {},
   "outputs": [
    {
     "name": "stdout",
     "output_type": "stream",
     "text": [
      "INFO\n"
     ]
    }
   ],
   "source": [
    "# slide 23\n",
    "\n",
    "log_entry = \"Info: User logged in at 10:15 AM\"\n",
    "level, _, message = log_entry.partition(\": \")\n",
    "if not level.isupper():\n",
    "    level = level.upper()\n",
    "print(level)"
   ]
  },
  {
   "cell_type": "markdown",
   "id": "b2390ee7-2b60-4218-afd8-c4dbfb07fd3e",
   "metadata": {},
   "source": [
    "**Slide 24:**\n",
    "\n",
    "**Method: `str.encode()` and `bytes.decode()`**\n",
    "\n",
    "- **Definition:**  \n",
    "  - `str.encode()`: Encodes string to bytes  \n",
    "  - `bytes.decode()`: Decodes bytes to string  \n",
    "- **Usage:** Handling log files with specific encodings  \n",
    "\n",
    "**Code Snippet:**\n",
    "\n",
    "```python\n",
    "with open('server.log', 'rb') as f:\n",
    "    byte_data = f.read()\n",
    "    log_data = byte_data.decode('utf-8')\n",
    "```\n",
    "\n",
    "---\n",
    "\n",
    "**Explanation:**\n",
    "\n",
    "Logs may come in various encodings, especially from different systems. Properly encoding and decoding ensures that our analyzer can process these files without data loss or corruption.\n",
    "\n",
    "---\n",
    "\n"
   ]
  },
  {
   "cell_type": "code",
   "execution_count": 21,
   "id": "79506792-9876-4d68-9707-073efd15f499",
   "metadata": {},
   "outputs": [
    {
     "name": "stdout",
     "output_type": "stream",
     "text": [
      "b\"DEBUG: Query executed successfully @ 09:05 AM\\r\\nCRITICAL: System overheating detected @ 09:10 AM\\r\\nINFO: User 'guest' logged out @ 09:15 AM\\r\\nERROR: Disk read failure on 'E:' @ 09:20 AM\\r\\n\\r\\nINFO: User 'admin' logged in @ Time: 08:15 AM\\r\\nERROR: Unable to connect to database @ Time: 08:17 AM\\r\\nWARNING: High memory usage detected @ Time: 08:20 AM\\r\\n\\r\\nINFO: User 'admin' accessed 'Dashboard' @ Time: 08:25 AM\\r\\nERROR: Timeout occurred while fetching data @ Time: 08:30 AM\\r\\n\\r\\n\\r\\nINFO: Scheduled backup completed @ Time: 08:45 AM\\r\\nWARNING: Low disk space on 'C:' @ Time: 08:50 AM\\r\\nERROR: Failed to send email notification @ Time: 09:00 AM\\r\\n\"\n",
      "DEBUG: Query executed successfully @ 09:05 AM\n",
      "CRITICAL: System overheating detected @ 09:10 AM\n",
      "INFO: User 'guest' logged out @ 09:15 AM\n",
      "ERROR: Disk read failure on 'E:' @ 09:20 AM\n",
      "\n",
      "INFO: User 'admin' logged in @ Time: 08:15 AM\n",
      "ERROR: Unable to connect to database @ Time: 08:17 AM\n",
      "WARNING: High memory usage detected @ Time: 08:20 AM\n",
      "\n",
      "INFO: User 'admin' accessed 'Dashboard' @ Time: 08:25 AM\n",
      "ERROR: Timeout occurred while fetching data @ Time: 08:30 AM\n",
      "\n",
      "\n",
      "INFO: Scheduled backup completed @ Time: 08:45 AM\n",
      "WARNING: Low disk space on 'C:' @ Time: 08:50 AM\n",
      "ERROR: Failed to send email notification @ Time: 09:00 AM\n",
      "\n"
     ]
    }
   ],
   "source": [
    "# slide 24\n",
    "\n",
    "with open('server.log', 'rb') as f:\n",
    "    byte_data = f.read()\n",
    "    log_data = byte_data.decode('utf-8')\n",
    "\n",
    "print(byte_data)\n",
    "print(log_data)"
   ]
  },
  {
   "cell_type": "markdown",
   "id": "741ad4a6-c03b-4221-b325-73627919c53d",
   "metadata": {},
   "source": [
    "**Slide 25:**\n",
    "\n",
    "**Method: `str.maketrans()` and `str.translate()`**\n",
    "\n",
    "- **Definition:**  \n",
    "  - `str.maketrans()`: Creates a mapping table  \n",
    "  - `str.translate()`: Translates characters using the mapping  \n",
    "- **Usage:** Cleaning or anonymizing sensitive data  \n",
    "\n",
    "**Code Snippet:**\n",
    "\n",
    "```python\n",
    "trans_table = str.maketrans({'@': '[at]', '.': '[dot]'})\n",
    "anonymized_email = email.translate(trans_table)\n",
    "```\n",
    "\n",
    "---\n",
    "\n",
    "**Explanation:**\n",
    "\n",
    "When logs contain sensitive information like email addresses, we can use these methods to anonymize data before analysis or sharing reports, ensuring compliance with privacy regulations.\n",
    "\n",
    "---\n",
    "\n"
   ]
  },
  {
   "cell_type": "code",
   "execution_count": 22,
   "id": "57c5d6f6-fbd2-4ac5-b4d7-a4354198d8c3",
   "metadata": {},
   "outputs": [
    {
     "name": "stdout",
     "output_type": "stream",
     "text": [
      "abc.123@constructor.university\n",
      "abc[dot]123[at]constructor[dot]university\n"
     ]
    }
   ],
   "source": [
    "# slide 25\n",
    "\n",
    "email = \"abc.123@constructor.university\"\n",
    "trans_table = str.maketrans({'@': '[at]', '.': '[dot]'})\n",
    "anonymized_email = email.translate(trans_table)\n",
    "\n",
    "print(email)\n",
    "print(anonymized_email)"
   ]
  },
  {
   "cell_type": "markdown",
   "id": "f15e3637-d71a-41b1-824d-b351ad88fcec",
   "metadata": {},
   "source": [
    "**Slide 26:**\n",
    "\n",
    "**Method: `str.format()` and `str.format_map()`**\n",
    "\n",
    "- **Definition:** Formats strings using placeholders  \n",
    "- **Usage:** Generating reports and messages  \n",
    "\n",
    "**Code Snippet:**\n",
    "\n",
    "```python\n",
    "report_line = \"User {user} logged in at {time}\".format(user=username, time=timestamp)\n",
    "```\n",
    "\n",
    "---\n",
    "\n",
    "**Explanation:**\n",
    "\n",
    "Dynamic string formatting is crucial when generating human-readable reports or alerts. It allows us to insert variable data into templates seamlessly.\n",
    "\n",
    "---\n"
   ]
  },
  {
   "cell_type": "code",
   "execution_count": 23,
   "id": "d03073a0-e5f8-44d9-bbcb-5840829d59fb",
   "metadata": {},
   "outputs": [
    {
     "name": "stdout",
     "output_type": "stream",
     "text": [
      "User john logged in at 10:15 AM\n"
     ]
    }
   ],
   "source": [
    "# slide 26\n",
    "\n",
    "username = \"john\"\n",
    "timestamp = \"10:15 AM\"\n",
    "\n",
    "report_line = \"User {user} logged in at {time}\".format(user=username, time=timestamp)\n",
    "#report_line = \"User {} logged in at {}\".format(username, timestamp)\n",
    "#report_line = \"User {0} logged in at {1}\".format(username, timestamp)\n",
    "\n",
    "print(report_line)"
   ]
  },
  {
   "cell_type": "markdown",
   "id": "6bfcdfd6-4338-4ea9-b8cb-8c1cdaa841fd",
   "metadata": {},
   "source": [
    "**Slide 27:**\n",
    "\n",
    "**Method: `str.casefold()`**\n",
    "\n",
    "- **Definition:** Returns a casefolded copy of the string  \n",
    "- **Usage:** Advanced case-insensitive comparisons  \n",
    "\n",
    "**Code Snippet:**\n",
    "\n",
    "```python\n",
    "if log_entry.casefold().startswith(\"error\"):\n",
    "    handle_error(log_entry)\n",
    "```\n",
    "\n",
    "---\n",
    "\n",
    "**Explanation:**\n",
    "\n",
    "`str.casefold()` is more aggressive than `str.lower()` and is designed for caseless matching, which is particularly useful in internationalized applications where characters may have different cases in different locales.\n",
    "\n",
    "---\n",
    "\n"
   ]
  },
  {
   "cell_type": "code",
   "execution_count": 42,
   "id": "57ebef13-c6a0-4e26-8a2d-77719728a62f",
   "metadata": {},
   "outputs": [
    {
     "name": "stdout",
     "output_type": "stream",
     "text": [
      "[ALERT] Time: , Error: Disk space low.\n",
      "False\n",
      "True\n"
     ]
    }
   ],
   "source": [
    "# slide 27\n",
    "\n",
    "log_entry = \"ERROR: Disk space low.\"\n",
    "if log_entry.casefold().startswith(\"error\"):\n",
    "    handle_error(log_entry)\n",
    "\n",
    "s1 = \"Straße\"\n",
    "s2 = \"STRASSE\"\n",
    "\n",
    "# Using lower()\n",
    "print(s1.lower() == s2.lower())       # Output: False\n",
    "\n",
    "# Using casefold()\n",
    "print(s1.casefold() == s2.casefold()) # Output: True\n"
   ]
  },
  {
   "cell_type": "markdown",
   "id": "523046f9-e1af-40f3-a4a7-cde9229b33c1",
   "metadata": {},
   "source": [
    "**Slide 28:**\n",
    "\n",
    "**Method: `str.expandtabs()`**\n",
    "\n",
    "- **Definition:** Replaces tabs with spaces  \n",
    "- **Usage:** Standardizing log entry formatting  \n",
    "\n",
    "**Code Snippet:**\n",
    "\n",
    "```python\n",
    "formatted_entry = log_entry.expandtabs(4)\n",
    "```\n",
    "\n",
    "---\n",
    "\n",
    "**Explanation:**\n",
    "\n",
    "If logs contain tabs for indentation, `str.expandtabs()` can replace them with a consistent number of spaces, ensuring uniform formatting for analysis or display.\n",
    "\n",
    "---\n",
    "\n"
   ]
  },
  {
   "cell_type": "code",
   "execution_count": 25,
   "id": "a1f609b2-302a-4cae-98ea-5bfb21f79dc6",
   "metadata": {},
   "outputs": [
    {
     "name": "stdout",
     "output_type": "stream",
     "text": [
      "ERROR:      Disk space low.\n"
     ]
    }
   ],
   "source": [
    "# slide 28\n",
    "\n",
    "log_entry = \"ERROR:\\t\\tDisk space low.\"\n",
    "formatted_entry = log_entry.expandtabs(4)\n",
    "print(formatted_entry)"
   ]
  },
  {
   "cell_type": "markdown",
   "id": "36390fb2-8e28-413d-947a-9b3fd8d0b1ad",
   "metadata": {},
   "source": [
    "**Slide 29:**\n",
    "\n",
    "**Method: `str.removeprefix()` and `str.removesuffix()`**\n",
    "\n",
    "- **Definition:** Removes specified prefix/suffix  \n",
    "- **Usage:** Cleaning log entries  \n",
    "\n",
    "**Code Snippet:**\n",
    "\n",
    "```python\n",
    "clean_entry = log_entry.removeprefix(\"LOG: \")\n",
    "```\n",
    "\n",
    "---\n",
    "\n",
    "**Explanation:**\n",
    "\n",
    "These methods are useful for stripping known prefixes or suffixes from log entries, simplifying the strings we need to process.\n",
    "\n",
    "---\n",
    "\n"
   ]
  },
  {
   "cell_type": "code",
   "execution_count": 26,
   "id": "d18b3e6b-7d55-4920-837c-20e8c31b04aa",
   "metadata": {},
   "outputs": [
    {
     "name": "stdout",
     "output_type": "stream",
     "text": [
      "Disk space low.\n"
     ]
    }
   ],
   "source": [
    "# slide 29\n",
    "\n",
    "log_entry = \"ERROR: Disk space low.\"\n",
    "clean_entry = log_entry.removeprefix(\"ERROR: \")\n",
    "print(clean_entry)"
   ]
  },
  {
   "cell_type": "markdown",
   "id": "b58a810e-aaf2-4c1f-9c47-f1adac44bd1a",
   "metadata": {},
   "source": [
    "**Slide 30:**\n",
    "\n",
    "**Method: `str.isidentifier()`**\n",
    "\n",
    "- **Definition:** Checks if string is a valid identifier  \n",
    "- **Usage:** Validating variable names extracted from logs  \n",
    "\n",
    "**Code Snippet:**\n",
    "\n",
    "```python\n",
    "if variable_name.isidentifier():\n",
    "    valid_variables.append(variable_name)\n",
    "```\n",
    "\n",
    "---\n",
    "\n",
    "**Explanation:**\n",
    "\n",
    "When logs contain code snippets or variable names, ensuring they are valid identifiers can prevent errors if we plan to use them in dynamic code execution or further analysis.\n",
    "\n",
    "---\n",
    "\n"
   ]
  },
  {
   "cell_type": "code",
   "execution_count": 27,
   "id": "23f03ea2-9ca6-49bd-98a5-27a37bb3bb25",
   "metadata": {},
   "outputs": [
    {
     "name": "stdout",
     "output_type": "stream",
     "text": [
      "['test01']\n"
     ]
    }
   ],
   "source": [
    "# slide 30\n",
    "\n",
    "valid_variables = []\n",
    "if \"test01\".isidentifier():\n",
    "    valid_variables.append(\"test01\")\n",
    "print(valid_variables)"
   ]
  },
  {
   "cell_type": "markdown",
   "id": "3893add2-8497-4978-bbe2-e2d70900f708",
   "metadata": {},
   "source": [
    "**Slide 31:**\n",
    "\n",
    "**Method: `str.isprintable()`**\n",
    "\n",
    "- **Definition:** Checks if all characters are printable  \n",
    "- **Usage:** Detecting non-printable characters in logs  \n",
    "\n",
    "**Code Snippet:**\n",
    "\n",
    "```python\n",
    "if not log_entry.isprintable():\n",
    "    log_entry = ''.join(filter(str.isprintable, log_entry))\n",
    "```\n",
    "\n",
    "---\n",
    "\n",
    "**Explanation:**\n",
    "\n",
    "Non-printable characters can interfere with parsing and display. Identifying and removing them ensures that our log analyzer functions correctly.\n",
    "\n",
    "---\n",
    "\n"
   ]
  },
  {
   "cell_type": "code",
   "execution_count": 44,
   "id": "4086e9d1-7a5a-4c0b-9591-052c96a67958",
   "metadata": {},
   "outputs": [
    {
     "name": "stdout",
     "output_type": "stream",
     "text": [
      "Non-printable characters detected. Removing...\n",
      "ERROR:Disk space low.\n"
     ]
    }
   ],
   "source": [
    "# slide 31\n",
    "\n",
    "log_entry = \"ERROR:\\t\\tDisk space low.\"\n",
    "\n",
    "if not log_entry.isprintable():\n",
    "    print(\"Non-printable characters detected. Removing...\")\n",
    "    log_entry = ''.join(filter(str.isprintable, log_entry)) # filter char by char\n",
    "print(log_entry)"
   ]
  },
  {
   "cell_type": "markdown",
   "id": "b0cd3a79-88b5-4c5f-97cd-241c4c4e0e38",
   "metadata": {},
   "source": [
    "**Slide 32:**\n",
    "\n",
    "**Method: `str.encode()` with Error Handling**\n",
    "\n",
    "- **Definition:** Handles encoding errors with parameters  \n",
    "- **Usage:** Dealing with logs containing invalid characters  \n",
    "\n",
    "**Code Snippet:**\n",
    "\n",
    "```python\n",
    "try:\n",
    "    log_entry.encode('ascii')\n",
    "except UnicodeEncodeError:\n",
    "    log_entry = log_entry.encode('ascii', errors='ignore').decode('ascii')\n",
    "```\n",
    "\n",
    "---\n",
    "\n",
    "**Explanation:**\n",
    "\n",
    "Logs from various sources might contain characters not supported by certain encodings. Handling encoding errors gracefully prevents our analyzer from crashing and ensures maximum data is processed.\n",
    "\n",
    "---\n",
    "\n"
   ]
  },
  {
   "cell_type": "code",
   "execution_count": 29,
   "id": "a052c0e5-6971-4647-a808-f32318826ea8",
   "metadata": {},
   "outputs": [
    {
     "name": "stdout",
     "output_type": "stream",
     "text": [
      "unicode error\n",
      "ERROR: Disk spce low.\n"
     ]
    }
   ],
   "source": [
    "# slide 32\n",
    "\n",
    "log_entry = \"ERROR: Disk späce low.\"\n",
    "try:\n",
    "    log_entry.encode('ascii')\n",
    "    #log_entry.encode('utf-8')\n",
    "except UnicodeEncodeError:\n",
    "    print(\"unicode error\")\n",
    "    log_entry = log_entry.encode('ascii', errors='ignore').decode('ascii')\n",
    "print(log_entry)"
   ]
  },
  {
   "cell_type": "markdown",
   "id": "c6d9af17-fa2a-4517-aef8-e69d4b955c7a",
   "metadata": {},
   "source": [
    "**Slide 33:**\n",
    "\n",
    "**Method: `str.lstrip()` and `str.rstrip()`**\n",
    "\n",
    "- **Definition:** Removes leading/trailing characters  \n",
    "- **Usage:** Cleaning specific unwanted characters  \n",
    "\n",
    "**Code Snippet:**\n",
    "\n",
    "```python\n",
    "clean_entry = log_entry.rstrip('\\n')\n",
    "```\n",
    "\n",
    "---\n",
    "\n",
    "**Explanation:**\n",
    "\n",
    "Sometimes, log entries may have unwanted characters at the start or end, such as newline characters. Using `str.rstrip()` or `str.lstrip()` helps in cleaning these entries for accurate processing.\n",
    "\n",
    "---\n",
    "\n"
   ]
  },
  {
   "cell_type": "code",
   "execution_count": 45,
   "id": "3a3a9361-e244-4ff7-b016-f54ae1515a32",
   "metadata": {},
   "outputs": [
    {
     "name": "stdout",
     "output_type": "stream",
     "text": [
      "xx\n",
      "\n",
      "\n",
      "ERROR:\tDisk space low.\n",
      "\n",
      "xx\n",
      "---------------\n",
      "\n",
      "\n",
      "\n",
      "ERROR:\tDisk space low.\n",
      "\n",
      "\n"
     ]
    }
   ],
   "source": [
    "# slide 33\n",
    "\n",
    "log_entry = \"\\n\\n\\nERROR:\\tDisk space low.\\n\\n\"\n",
    "print(log_entry)\n",
    "print(\"---------------\")\n",
    "\n",
    "clean_entry = log_entry.rstrip('\\n').lstrip('\\n') # any char can be stripped\n",
    "print(clean_entry)"
   ]
  },
  {
   "cell_type": "markdown",
   "id": "ddbfdedf-a3a3-4f8c-b766-a2815dbe2a3a",
   "metadata": {},
   "source": [
    "**Slide 34:**\n",
    "\n",
    "**Method: `str.partition()` for Complex Parsing**\n",
    "\n",
    "- **Usage:** Splitting log entries with multiple separators  \n",
    "\n",
    "**Code Snippet:**\n",
    "\n",
    "```python\n",
    "level_part, _, rest = log_entry.partition(\": \")\n",
    "message_part, _, timestamp = rest.partition(\" @ \")\n",
    "```\n",
    "\n",
    "---\n",
    "\n",
    "**Explanation:**\n",
    "\n",
    "By chaining `str.partition()`, we can dissect complex log entries into their constituent parts, even when multiple separators are involved.\n",
    "\n",
    "---\n",
    "\n"
   ]
  },
  {
   "cell_type": "code",
   "execution_count": 31,
   "id": "22204a25-c911-4142-8238-4ab65b04564b",
   "metadata": {},
   "outputs": [
    {
     "name": "stdout",
     "output_type": "stream",
     "text": [
      "INFO: User logged in @ 10:15 AM\n",
      "INFO\n",
      "User logged in @ 10:15 AM\n",
      "User logged in\n",
      "10:15 AM\n"
     ]
    }
   ],
   "source": [
    "# slide 34 (repeated)\n",
    "\n",
    "log_entry = \"INFO: User logged in @ 10:15 AM\"\n",
    "level_part, _, rest = log_entry.partition(\": \")\n",
    "message_part, _, timestamp = rest.partition(\" @ \")\n",
    "\n",
    "print(log_entry)\n",
    "print(level_part)\n",
    "print(rest)\n",
    "print(message_part)\n",
    "print(timestamp)"
   ]
  },
  {
   "cell_type": "markdown",
   "id": "4f4a8bd2-7c9c-4863-9892-216272bf7fc9",
   "metadata": {},
   "source": [
    "**Slide 35:**\n",
    "\n",
    "**Method: `str.rsplit()`**\n",
    "\n",
    "- **Definition:** Splits a string from the right  \n",
    "- **Usage:** Extracting file paths or URLs in logs  \n",
    "\n",
    "**Code Snippet:**\n",
    "\n",
    "```python\n",
    "path = \"/var/log/server.log\"\n",
    "filename = path.rsplit('/', 1)[-1]\n",
    "# Output: 'server.log'\n",
    "```\n",
    "\n",
    "---\n",
    "\n",
    "**Explanation:**\n",
    "\n",
    "When dealing with paths or URLs, `str.rsplit()` can be used to extract the filename or last segment, which is often necessary for logging or reporting.\n",
    "\n",
    "---\n",
    "\n"
   ]
  },
  {
   "cell_type": "code",
   "execution_count": 32,
   "id": "99c2fbc2-2fc9-4ae9-af1a-39765c653436",
   "metadata": {},
   "outputs": [
    {
     "name": "stdout",
     "output_type": "stream",
     "text": [
      "server.log\n"
     ]
    }
   ],
   "source": [
    "# slide 35\n",
    "\n",
    "path = \"/var/log/server.log\"\n",
    "filename = path.rsplit('/', 1)[-1] # one split based on '/' from right. Two elements in the list. Pick the right one.\n",
    "\n",
    "print(filename)"
   ]
  },
  {
   "cell_type": "markdown",
   "id": "7655816b-2d26-4afc-8109-59d8689210f7",
   "metadata": {},
   "source": [
    "**Slide 36:**\n",
    "\n",
    "**Method: `str.isdecimal()`**\n",
    "\n",
    "- **Definition:** Checks if all characters are decimal  \n",
    "- **Usage:** Validating numerical strings  \n",
    "\n",
    "**Code Snippet:**\n",
    "\n",
    "```python\n",
    "if port.isdecimal():\n",
    "    port_number = int(port)\n",
    "```\n",
    "\n",
    "---\n",
    "\n",
    "**Explanation:**\n",
    "\n",
    "Ensuring that strings representing numbers are actually decimal digits prevents errors during type conversion and subsequent computations.\n",
    "\n",
    "---\n",
    "\n"
   ]
  },
  {
   "cell_type": "code",
   "execution_count": 33,
   "id": "ee405c4d-6d1d-48b9-90f8-c2d7be55683f",
   "metadata": {},
   "outputs": [
    {
     "name": "stdout",
     "output_type": "stream",
     "text": [
      "16\n",
      "The port is not decimal\n"
     ]
    }
   ],
   "source": [
    "# slide 36\n",
    "\n",
    "port = \"0x10\" # 0x, 0b, 0o\n",
    "print(int(port, 16)) # 16, 2, 8\n",
    "\n",
    "#port = \"8080\"\n",
    "\n",
    "if port.isdecimal():\n",
    "    port_number = int(port)\n",
    "    print(port_number)\n",
    "else:\n",
    "    print(\"The port is not decimal\")"
   ]
  },
  {
   "cell_type": "markdown",
   "id": "f89c0912-6999-448b-8632-8a98700a0527",
   "metadata": {},
   "source": [
    "**Slide 37:**\n",
    "\n",
    "**Method: `str.casefold()` vs. `str.lower()`**\n",
    "\n",
    "- **Comparison:**  \n",
    "  - `str.lower()` is less aggressive  \n",
    "  - `str.casefold()` is suitable for caseless matching  \n",
    "- **Usage:** Internationalized log entries  \n",
    "\n",
    "**Code Snippet:**\n",
    "\n",
    "```python\n",
    "if user_input.casefold() == 'şişli':\n",
    "    process_request()\n",
    "```\n",
    "\n",
    "---\n",
    "\n",
    "**Explanation:**\n",
    "\n",
    "In international contexts, characters may not be converted correctly using `str.lower()`. `str.casefold()` provides a more thorough case conversion, which is essential for accurate comparisons.\n",
    "\n",
    "---\n"
   ]
  },
  {
   "cell_type": "code",
   "execution_count": 34,
   "id": "3243fbfe-e4fc-4ce9-bb5b-7decfd0890c3",
   "metadata": {},
   "outputs": [
    {
     "name": "stdout",
     "output_type": "stream",
     "text": [
      "Ärtz\n"
     ]
    }
   ],
   "source": [
    "# slide 37\n",
    "\n",
    "user_input = \"Ärtz\"\n",
    "if user_input.casefold() == 'ärtz':\n",
    "    print(user_input)\n"
   ]
  },
  {
   "cell_type": "markdown",
   "id": "333c6fc8-aded-4c26-b4f7-4b79e8677dee",
   "metadata": {},
   "source": [
    "**Slide 38:**\n",
    "\n",
    "**Method: `str.format_map()` with Custom Dictionaries**\n",
    "\n",
    "- **Definition:** Uses a mapping for string formatting  \n",
    "- **Usage:** Dynamic log message generation  \n",
    "\n",
    "**Code Snippet:**\n",
    "\n",
    "```python\n",
    "class SafeDict(dict):\n",
    "    def __missing__(self, key):\n",
    "        return '{' + key + '}'\n",
    "\n",
    "template = \"User {user} accessed {resource} at {time}\"\n",
    "message = template.format_map(SafeDict(user='Alice', time='12:00 PM'))\n",
    "# Output: 'User Alice accessed {resource} at 12:00 PM'\n",
    "```\n",
    "\n",
    "---\n",
    "\n",
    "**Explanation:**\n",
    "\n",
    "Using `str.format_map()` with a custom dictionary allows us to handle missing keys gracefully, which is useful when not all data is available in logs.\n",
    "\n",
    "---\n",
    "\n"
   ]
  },
  {
   "cell_type": "code",
   "execution_count": 35,
   "id": "949ec801-8277-429e-8a35-a9405451c934",
   "metadata": {},
   "outputs": [
    {
     "name": "stdout",
     "output_type": "stream",
     "text": [
      "User Alice accessed {resource} at 12:00 PM\n"
     ]
    }
   ],
   "source": [
    "# slide 38\n",
    "\n",
    "class SafeDict(dict):\n",
    "    def __missing__(self, key):\n",
    "        return '{' + key + '}'\n",
    "\n",
    "template = \"User {user} accessed {resource} at {time}\"\n",
    "\n",
    "message = template.format_map(SafeDict(user='Alice', time='12:00 PM'))\n",
    "\n",
    "#names = {'user':'Alice', 'time':'12:00 PM', 'resource':'Dashboard'}\n",
    "#message = template.format_map(names)\n",
    "\n",
    "print(message)"
   ]
  },
  {
   "cell_type": "markdown",
   "id": "241255af-499e-4e25-b2d3-34b5583d1a64",
   "metadata": {},
   "source": [
    "**Slide 39:**\n",
    "\n",
    "**Case Study Implementation: Parsing Log Files**\n",
    "\n",
    "**Code Snippet:**\n",
    "\n",
    "```python\n",
    "def parse_log_file(file_path):\n",
    "    with open(file_path) as f:\n",
    "        for line in f:\n",
    "            line = line.strip()\n",
    "            if not line:\n",
    "                continue\n",
    "            level, _, rest = line.partition(\": \")\n",
    "            message, _, timestamp = rest.partition(\" @ \")\n",
    "            process_log_entry(level, message, timestamp)\n",
    "\n",
    "def process_log_entry(level, message, timestamp):\n",
    "    # Analyze and store the log entry\n",
    "    print(f\"Level: {level}, Message: {message}, Time: {timestamp}\")\n",
    "\n",
    "parse_log_file('server.log')\n",
    "```\n",
    "\n",
    "---\n",
    "\n",
    "**Explanation:**\n",
    "\n",
    "Here's how we bring together multiple `str` methods to parse a log file. We read each line, clean it, partition it into meaningful components, and then process each entry. This modular approach allows us to handle logs efficiently and extend our analyzer's capabilities as needed.\n",
    "\n",
    "---\n",
    "\n"
   ]
  },
  {
   "cell_type": "code",
   "execution_count": 36,
   "id": "3d2e7cf7-f52c-47a3-a38d-394cbb5bf266",
   "metadata": {},
   "outputs": [
    {
     "name": "stdout",
     "output_type": "stream",
     "text": [
      "Level: DEBUG, Message: Query executed successfully, Time: 09:05 AM\n",
      "Level: CRITICAL, Message: System overheating detected, Time: 09:10 AM\n",
      "Level: INFO, Message: User 'guest' logged out, Time: 09:15 AM\n",
      "Level: ERROR, Message: Disk read failure on 'E:', Time: 09:20 AM\n",
      "Level: INFO, Message: User 'admin' logged in, Time: Time: 08:15 AM\n",
      "Level: ERROR, Message: Unable to connect to database, Time: Time: 08:17 AM\n",
      "Level: WARNING, Message: High memory usage detected, Time: Time: 08:20 AM\n",
      "Level: INFO, Message: User 'admin' accessed 'Dashboard', Time: Time: 08:25 AM\n",
      "Level: ERROR, Message: Timeout occurred while fetching data, Time: Time: 08:30 AM\n",
      "Level: INFO, Message: Scheduled backup completed, Time: Time: 08:45 AM\n",
      "Level: WARNING, Message: Low disk space on 'C:', Time: Time: 08:50 AM\n",
      "Level: ERROR, Message: Failed to send email notification, Time: Time: 09:00 AM\n"
     ]
    }
   ],
   "source": [
    "# slide 39\n",
    "\n",
    "def parse_log_file(file_path):\n",
    "    with open(file_path) as f:\n",
    "        for line in f:\n",
    "            line = line.strip()\n",
    "            if not line:\n",
    "                continue\n",
    "            level, _, rest = line.partition(\": \")\n",
    "            message, _, timestamp = rest.partition(\" @ \")\n",
    "            process_log_entry(level, message, timestamp)\n",
    "\n",
    "def process_log_entry(level, message, timestamp):\n",
    "    # Analyze and store the log entry\n",
    "    print(f\"Level: {level}, Message: {message}, Time: {timestamp}\")\n",
    "\n",
    "parse_log_file('server.log')"
   ]
  },
  {
   "cell_type": "markdown",
   "id": "758874fd-6c30-4bcf-af04-c60be831a0f1",
   "metadata": {},
   "source": [
    "**Slide 40:**\n",
    "\n",
    "**Conclusion**\n",
    "\n",
    "- Mastery of `str` methods is essential for text processing  \n",
    "- Efficient log analysis improves server management  \n",
    "- Encouragement to apply these concepts in real-world projects  \n",
    "\n",
    "---\n",
    "\n",
    "**Explanation:**\n",
    "\n",
    "In conclusion, Python's `str` methods provide powerful tools for text manipulation, which are invaluable in log analysis and many other applications. By understanding and applying these methods, we can build robust tools that enhance system monitoring and maintenance. You are encouraged to integrate these techniques into your projects and explore further possibilities.\n",
    "\n",
    "---\n"
   ]
  },
  {
   "cell_type": "markdown",
   "id": "df3b9e64-7cf2-42fc-84be-58df9956c2cf",
   "metadata": {},
   "source": []
  }
 ],
 "metadata": {
  "kernelspec": {
   "display_name": "Python 3 (ipykernel)",
   "language": "python",
   "name": "python3"
  },
  "language_info": {
   "codemirror_mode": {
    "name": "ipython",
    "version": 3
   },
   "file_extension": ".py",
   "mimetype": "text/x-python",
   "name": "python",
   "nbconvert_exporter": "python",
   "pygments_lexer": "ipython3",
   "version": "3.12.4"
  }
 },
 "nbformat": 4,
 "nbformat_minor": 5
}
